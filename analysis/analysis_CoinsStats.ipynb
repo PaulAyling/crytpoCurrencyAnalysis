{
 "metadata": {
  "language_info": {
   "codemirror_mode": {
    "name": "ipython",
    "version": 3
   },
   "file_extension": ".py",
   "mimetype": "text/x-python",
   "name": "python",
   "nbconvert_exporter": "python",
   "pygments_lexer": "ipython3",
   "version": "3.8.5"
  },
  "orig_nbformat": 2,
  "kernelspec": {
   "name": "python3",
   "display_name": "Python 3.8.5 64-bit",
   "metadata": {
    "interpreter": {
     "hash": "15ed2ef4f556d75dd1bb7019e7b9b22e3a5d11b308a4f690ac640aaffb821b72"
    }
   }
  }
 },
 "nbformat": 4,
 "nbformat_minor": 2,
 "cells": [
  {
   "cell_type": "code",
   "execution_count": 3,
   "metadata": {},
   "outputs": [
    {
     "output_type": "stream",
     "name": "stdout",
     "text": [
      "14:05:47 Utilty functions genreated..\n"
     ]
    }
   ],
   "source": [
    "# ANALYSIS SCRIPT           {COINGEKO}  3\n",
    "# AIMS TO CONDUCT A FEW CALCS ON THE COINGECKO DATASET\n",
    "\n",
    "# TODO!!\n",
    "# I have now fixed the dataimport with the func createListOfOneDictionary\n",
    "# I will now start preping the code for a datframe\n",
    "\n",
    "\n",
    "import os.path\n",
    "from datetime import datetime\n",
    "import json\n",
    "# GLOBAL VARS\n",
    "G_save_path = '/Users/bob/Documents/dev/projects/python/cryptoData/data'\n",
    "now = datetime.now()\n",
    "current_time = now.strftime(\"%H:%M:%S\")\n",
    "# UTILTIY FUNCTIONS\n",
    "def removeCurrent(fileName):\n",
    "    # used in outputToFile()\n",
    "    completeName = os.path.join(G_save_path, fileName)\n",
    "    if os.path.exists(completeName):\n",
    "        os.remove(completeName)\n",
    "        return 'File: Overwritten'\n",
    "    else:\n",
    "        return \"File: Created\"\n",
    "    \n",
    "def JSONExport(mylist,fileName): \n",
    "    completeName = os.path.join(G_save_path, fileName)  \n",
    "    overwriteStatus = removeCurrent(completeName)\n",
    "    with open(completeName, 'w') as f:\n",
    "        json.dump(mylist, f)\n",
    "    print('Records Exported:',len(mylist),'records' )\n",
    "    print(current_time, 'Exported file:',completeName,overwriteStatus,)\n",
    "\n",
    "def JSONImport(fileName): \n",
    "    completeName = os.path.join(G_save_path, fileName) \n",
    "    print(current_time,'Imported file:',completeName) \n",
    "    with open(completeName) as f:\n",
    "        result = json.load(f)\n",
    "    return result \n",
    "def printKey(myDict,position):\n",
    "    result = list(myDict[position].keys())[0]\n",
    "    print(result)\n",
    "\n",
    "\n",
    "#PROGRAM\n",
    "print( current_time,'Utilty functions genreated..')"
   ]
  },
  {
   "cell_type": "code",
   "execution_count": 35,
   "metadata": {},
   "outputs": [
    {
     "output_type": "stream",
     "name": "stdout",
     "text": [
      "14:05:47 Imported file: /Users/bob/Documents/dev/projects/python/cryptoData/data/pageStats_sample.json\n[{'id': ['01coin', '0-5x-long-altcoin-index-token', '0-5x-long-algorand-token', '0-5x-long-balancer-token', '0-5x-long-bitcoin-cash-token', '0-5x-long-bitcoin-token', '0-5x-long-bitcoin-sv-token', '0-5x-long-cardano-token', '0-5x-long-cosmos-token', '0-5x-long-defi-index-token', '0-5x-long-dogecoin-token', '0-5x-long-chainlink-token']}, {'symbol': ['zoc', 'althalf', 'algohalf', 'balhalf', 'bchhalf', 'half', 'bsvhalf', 'adahalf', 'atomhalf', 'defihalf', 'dogehalf', 'linkhalf']}, {'name': ['01coin', '0.5X Long Altcoin Index Token', '0.5X Long Algorand Token', '0.5X Long Balancer Token', '0.5X Long Bitcoin Cash Token', '0.5X Long Bitcoin Token', '0.5X Long Bitcoin SV Token', '0.5X Long Cardano Token', '0.5X Long Cosmos Token', '0.5X Long DeFi Index Token', '0.5X Long Dogecoin Token', '0.5X Long Chainlink Token']}, {'image': ['https://assets.coingecko.com/coins/images/5720/large/F1nTlw9I_400x400.jpg?1547041588', 'https://assets.coingecko.com/coins/images/12008/large/683JEXMN_400x400.png?1596692307', 'https://assets.coingecko.com/coins/images/12009/large/683JEXMN_400x400.png?1596692452', 'https://assets.coingecko.com/coins/images/12022/large/683JEXMN_400x400.png?1596694142', 'https://assets.coingecko.com/coins/images/12006/large/683JEXMN_400x400.png?1596692054', 'https://assets.coingecko.com/coins/images/11996/large/683JEXMN_400x400.png?1596689733', 'https://assets.coingecko.com/coins/images/12004/large/683JEXMN_400x400.png?1596691775', 'https://assets.coingecko.com/coins/images/12011/large/683JEXMN_400x400.png?1596692577', 'https://assets.coingecko.com/coins/images/12007/large/683JEXMN_400x400.png?1596692188', 'https://assets.coingecko.com/coins/images/12013/large/683JEXMN_400x400__1_.png?1596692965', 'https://assets.coingecko.com/coins/images/12002/large/683JEXMN_400x400.png?1596691478', 'https://assets.coingecko.com/coins/images/11992/large/683JEXMN_400x400.png?1596688614']}, {'current_price': [0.00388133, 19209.78, 17086.92, 16292.6, 10404.99, 17517.19, 6922.72, 41675, 19235.4, 16876.49, 55040, 20374]}, {'market_cap': [40722, 0.0, 0.0, 0.0, 0.0, 0.0, 0.0, 0.0, 0.0, 0.0, 0.0, 0.0]}, {'market_cap_rank': [2362, None, None, None, None, None, None, None, None, None, None, None]}, {'fully_diluted_valuation': [None, None, None, None, None, None, None, None, None, None, None, None]}, {'total_volume': [16599.92, 32.27, 5.98, 5.54, 27.78, 88.09, 56.49, 92.14, 105.22, 1710.09, 27.74, 5.7]}, {'high_24h': [0.00394009, None, None, 16289.62, None, 17826.9, None, None, 19578.05, None, None, None]}, {'low_24h': [0.00362548, None, None, 16289.62, None, 17509.96, None, None, 19149.94, None, None, None]}, {'price_change_24h': [0.00012066, None, None, 2.98, None, -295.7007991, None, None, -342.64904312, None, None, None]}, {'price_change_percentage_24h': [3.20838, None, None, 0.01827, None, -1.66004, None, None, -1.75017, None, None, None]}, {'market_cap_change_24h': [-701.35795261, 0.0, None, 0.0, 0.0, 0.0, None, None, 0.0, None, 0.0, None]}, {'market_cap_change_percentage_24h': [-1.69313, 0.0, None, 0.0, 0.0, 0.0, None, None, 0.0, None, 0.0, None]}, {'circulating_supply': [10646360.834599, 0.0, 0.0, 0.0, 0.0, 0.0, 0.0, 0.0, 0.0, 0.0, 0.0, 0.0]}, {'total_supply': [65658824.0, None, None, None, None, None, None, None, None, None, None, None]}, {'max_supply': [None, None, None, None, None, None, None, None, None, None, None, None]}, {'ath': [0.03418169, 19209.78, 20123, 17274.14, 11551.5, 18768.45, 7135.47, 45315, 20397, 17622.13, 66032, 21763]}, {'ath_change_percentage': [-88.80975, 0.0, -15.08814, -5.68216, -9.92527, -6.66684, -2.98161, -8.03321, -5.69583, -4.23127, -16.64638, -6.38433]}, {'ath_date': ['2018-10-10T17:27:38.034Z', '2021-04-07T23:01:19.363Z', '2021-02-13T05:56:26.817Z', '2021-04-03T03:14:36.252Z', '2021-02-16T03:38:04.484Z', '2021-03-18T16:31:37.990Z', '2021-04-02T19:49:45.676Z', '2021-03-18T05:15:24.316Z', '2021-02-20T02:27:12.038Z', '2021-02-13T05:48:48.151Z', '2021-01-29T05:30:57.571Z', '2021-02-14T08:06:27.489Z']}, {'atl': [0.00070641, 7519.66, 7222.78, 6126.19, 6080.06, 8028.2, 5404.46, 11030.84, 8550.03, 7293.01, 7164.65, 11743.65]}, {'atl_change_percentage': [441.46926, 155.46059, 136.56997, 165.94999, 71.13298, 118.19579, 28.0927, 277.8005, 124.97455, 131.40633, 668.21597, 73.48657]}, {'atl_date': ['2020-03-16T10:22:30.944Z', '2020-11-04T21:58:06.513Z', '2020-11-04T21:58:23.744Z', '2020-11-04T21:58:23.602Z', '2020-10-09T06:04:28.636Z', '2020-08-07T18:38:17.669Z', '2020-11-04T21:58:12.135Z', '2020-11-04T21:58:11.080Z', '2020-12-25T01:34:15.654Z', '2020-11-05T21:44:31.502Z', '2020-11-05T21:44:32.420Z', '2020-09-27T06:18:31.921Z']}, {'roi': [None, None, None, None, None, None, None, None, None, None, None, None]}, {'last_updated': ['2021-04-08T06:54:43.601Z', '2021-04-07T23:01:19.363Z', '2021-04-04T17:25:55.601Z', '2021-04-07T09:54:03.331Z', '2021-04-08T01:21:03.663Z', '2021-04-08T00:58:00.702Z', '2021-04-06T03:09:55.748Z', '2021-04-06T10:03:08.584Z', '2021-04-07T13:01:41.492Z', '2021-04-07T01:15:29.445Z', '2021-04-08T01:52:36.978Z', '2021-04-04T21:57:21.840Z']}]\n"
     ]
    }
   ],
   "source": [
    "\n",
    "import json\n",
    "def getHeaders(mylist):\n",
    "    # used in DataFrameInput()\n",
    "    headerRow = mylist[0]\n",
    "    result =  list(headerRow.keys())\n",
    "    return result\n",
    "\n",
    "def getColumns(myList,columnHeader):\n",
    "    # used in DataFrameInput()\n",
    "    result = []\n",
    "    for n in range(len(myList)):\n",
    "        # myValue = myList[n][columnHeader]\n",
    "        print(myList)\n",
    "        print(myList[n])\n",
    "        # result.append(myValue)\n",
    "    return result\n",
    "\n",
    "def dataFrameInput(myList):\n",
    "    headers = getHeaders(myList)\n",
    "    result = []\n",
    "    for n in range(len(headers)):\n",
    "        cur_col = getColumns(myList,headers[n])\n",
    "        print(cur_col)\n",
    "        # result.append({headers[n]:cur_col})\n",
    "        print('_')\n",
    "    return result \n",
    "# PROGRAM\n",
    "\n",
    "# 1 convert cryptoStatsData from [{id:[1,2,3]},{name:['rod','james','freddy']}] to [{id:[1,2,3],name:['rod','james','freddy']}]\n",
    "\n",
    "\n",
    "cryptoStatsData = JSONImport('pageStats_sample.json')\n",
    "print(cryptoStatsData)\n",
    "# print(cryptoStatsData)\n",
    "# preDataframe = dataFrameInput(cryptoStatsData)\n",
    "# JSONExport(preDataframe,'stats_input_dataframe.json')"
   ]
  },
  {
   "cell_type": "code",
   "execution_count": 34,
   "metadata": {},
   "outputs": [
    {
     "output_type": "stream",
     "name": "stdout",
     "text": [
      "{'id': ['01coin', '0-5x-long-altcoin-index-token', '0-5x-long-algorand-token', '0-5x-long-balancer-token', '0-5x-long-bitcoin-cash-token', '0-5x-long-bitcoin-token', '0-5x-long-bitcoin-sv-token', '0-5x-long-cardano-token', '0-5x-long-cosmos-token', '0-5x-long-defi-index-token', '0-5x-long-dogecoin-token', '0-5x-long-chainlink-token'], 'symbol': ['zoc', 'althalf', 'algohalf', 'balhalf', 'bchhalf', 'half', 'bsvhalf', 'adahalf', 'atomhalf', 'defihalf', 'dogehalf', 'linkhalf'], 'name': ['01coin', '0.5X Long Altcoin Index Token', '0.5X Long Algorand Token', '0.5X Long Balancer Token', '0.5X Long Bitcoin Cash Token', '0.5X Long Bitcoin Token', '0.5X Long Bitcoin SV Token', '0.5X Long Cardano Token', '0.5X Long Cosmos Token', '0.5X Long DeFi Index Token', '0.5X Long Dogecoin Token', '0.5X Long Chainlink Token'], 'image': ['https://assets.coingecko.com/coins/images/5720/large/F1nTlw9I_400x400.jpg?1547041588', 'https://assets.coingecko.com/coins/images/12008/large/683JEXMN_400x400.png?1596692307', 'https://assets.coingecko.com/coins/images/12009/large/683JEXMN_400x400.png?1596692452', 'https://assets.coingecko.com/coins/images/12022/large/683JEXMN_400x400.png?1596694142', 'https://assets.coingecko.com/coins/images/12006/large/683JEXMN_400x400.png?1596692054', 'https://assets.coingecko.com/coins/images/11996/large/683JEXMN_400x400.png?1596689733', 'https://assets.coingecko.com/coins/images/12004/large/683JEXMN_400x400.png?1596691775', 'https://assets.coingecko.com/coins/images/12011/large/683JEXMN_400x400.png?1596692577', 'https://assets.coingecko.com/coins/images/12007/large/683JEXMN_400x400.png?1596692188', 'https://assets.coingecko.com/coins/images/12013/large/683JEXMN_400x400__1_.png?1596692965', 'https://assets.coingecko.com/coins/images/12002/large/683JEXMN_400x400.png?1596691478', 'https://assets.coingecko.com/coins/images/11992/large/683JEXMN_400x400.png?1596688614'], 'current_price': [0.00388133, 19209.78, 17086.92, 16292.6, 10404.99, 17517.19, 6922.72, 41675, 19235.4, 16876.49, 55040, 20374], 'market_cap': [40722, 0.0, 0.0, 0.0, 0.0, 0.0, 0.0, 0.0, 0.0, 0.0, 0.0, 0.0], 'market_cap_rank': [2362, None, None, None, None, None, None, None, None, None, None, None], 'fully_diluted_valuation': [None, None, None, None, None, None, None, None, None, None, None, None], 'total_volume': [16599.92, 32.27, 5.98, 5.54, 27.78, 88.09, 56.49, 92.14, 105.22, 1710.09, 27.74, 5.7], 'high_24h': [0.00394009, None, None, 16289.62, None, 17826.9, None, None, 19578.05, None, None, None], 'low_24h': [0.00362548, None, None, 16289.62, None, 17509.96, None, None, 19149.94, None, None, None], 'price_change_24h': [0.00012066, None, None, 2.98, None, -295.7007991, None, None, -342.64904312, None, None, None], 'price_change_percentage_24h': [3.20838, None, None, 0.01827, None, -1.66004, None, None, -1.75017, None, None, None], 'market_cap_change_24h': [-701.35795261, 0.0, None, 0.0, 0.0, 0.0, None, None, 0.0, None, 0.0, None], 'market_cap_change_percentage_24h': [-1.69313, 0.0, None, 0.0, 0.0, 0.0, None, None, 0.0, None, 0.0, None], 'circulating_supply': [10646360.834599, 0.0, 0.0, 0.0, 0.0, 0.0, 0.0, 0.0, 0.0, 0.0, 0.0, 0.0], 'total_supply': [65658824.0, None, None, None, None, None, None, None, None, None, None, None], 'max_supply': [None, None, None, None, None, None, None, None, None, None, None, None], 'ath': [0.03418169, 19209.78, 20123, 17274.14, 11551.5, 18768.45, 7135.47, 45315, 20397, 17622.13, 66032, 21763], 'ath_change_percentage': [-88.80975, 0.0, -15.08814, -5.68216, -9.92527, -6.66684, -2.98161, -8.03321, -5.69583, -4.23127, -16.64638, -6.38433], 'ath_date': ['2018-10-10T17:27:38.034Z', '2021-04-07T23:01:19.363Z', '2021-02-13T05:56:26.817Z', '2021-04-03T03:14:36.252Z', '2021-02-16T03:38:04.484Z', '2021-03-18T16:31:37.990Z', '2021-04-02T19:49:45.676Z', '2021-03-18T05:15:24.316Z', '2021-02-20T02:27:12.038Z', '2021-02-13T05:48:48.151Z', '2021-01-29T05:30:57.571Z', '2021-02-14T08:06:27.489Z'], 'atl': [0.00070641, 7519.66, 7222.78, 6126.19, 6080.06, 8028.2, 5404.46, 11030.84, 8550.03, 7293.01, 7164.65, 11743.65], 'atl_change_percentage': [441.46926, 155.46059, 136.56997, 165.94999, 71.13298, 118.19579, 28.0927, 277.8005, 124.97455, 131.40633, 668.21597, 73.48657], 'atl_date': ['2020-03-16T10:22:30.944Z', '2020-11-04T21:58:06.513Z', '2020-11-04T21:58:23.744Z', '2020-11-04T21:58:23.602Z', '2020-10-09T06:04:28.636Z', '2020-08-07T18:38:17.669Z', '2020-11-04T21:58:12.135Z', '2020-11-04T21:58:11.080Z', '2020-12-25T01:34:15.654Z', '2020-11-05T21:44:31.502Z', '2020-11-05T21:44:32.420Z', '2020-09-27T06:18:31.921Z'], 'roi': [None, None, None, None, None, None, None, None, None, None, None, None], 'last_updated': ['2021-04-08T06:54:43.601Z', '2021-04-07T23:01:19.363Z', '2021-04-04T17:25:55.601Z', '2021-04-07T09:54:03.331Z', '2021-04-08T01:21:03.663Z', '2021-04-08T00:58:00.702Z', '2021-04-06T03:09:55.748Z', '2021-04-06T10:03:08.584Z', '2021-04-07T13:01:41.492Z', '2021-04-07T01:15:29.445Z', '2021-04-08T01:52:36.978Z', '2021-04-04T21:57:21.840Z']}\n"
     ]
    }
   ],
   "source": [
    "\n",
    "\n",
    "def  createListOfOneDictionary(listOfDictionaries):\n",
    "#create one big dictionary rather than many\n",
    "# E.G this: [{thing,thing,thing}] from this: [{thing},{thing},{thing}]  \n",
    "    result = {}\n",
    "    for n in range(len(badlyFormatedData)):\n",
    "        result.update(badlyFormatedData[n])\n",
    "    return result\n",
    "\n",
    "\n",
    "nice = cleanDictionary(cryptoStatsData)\n",
    "print(nice)"
   ]
  },
  {
   "cell_type": "code",
   "execution_count": null,
   "metadata": {},
   "outputs": [],
   "source": [
    "# create a ds of limited cols for using in a DF\n",
    "#printKey(dfInput,4)\n",
    "import numpy as np\n",
    "from pandas import Series, DataFrame\n",
    "import pandas as pd\n",
    "\n",
    "def createSample(dfInput):\n",
    "    header = dfInput[0]\n",
    "    price = dfInput[4]\n",
    "    print(price)\n",
    "    result = []\n",
    "    result.extend(header)\n",
    "    result.extend(price)\n",
    "    print(result)\n",
    "    return result\n",
    "def convertDictToDF(my_dict):\n",
    "    result = pd.DataFrame(list(my_dict.items()),columns = ['Stats','Numbers'])\n",
    "    return result\n",
    "#PROGRAM\n",
    "dfInput = JSONImport('pageStats_sample.json')\n",
    "# print(dfInput[0])\n",
    "littleSample = createSample(dfInput)\n",
    "# print(littleSample)\n",
    "\n"
   ]
  },
  {
   "cell_type": "code",
   "execution_count": null,
   "metadata": {},
   "outputs": [],
   "source": [
    "def list_length(myList,key):\n",
    "    print(len(littleSample[0][key]))\n",
    "\n",
    "list_length(littleSample,'id')\n",
    "list_length(littleSample,'current_price')"
   ]
  },
  {
   "cell_type": "code",
   "execution_count": null,
   "metadata": {},
   "outputs": [],
   "source": [
    "details = {\n",
    "    'Name' : ['Ankit', 'Aishwarya', 'Shaurya', 'Shivangi'],\n",
    "    'Age' : [23, 21, 22, 21],\n",
    "    'University' : ['BHU', 'JNU', 'DU', 'BHU'],\n",
    "}\n",
    "  \n",
    "# creating a Dataframe object \n",
    "#df = pd.DataFrame(details)\n",
    "df = pd.DataFrame(littleSample)\n",
    "  \n",
    "df"
   ]
  },
  {
   "cell_type": "code",
   "execution_count": null,
   "metadata": {},
   "outputs": [],
   "source": []
  }
 ]
}