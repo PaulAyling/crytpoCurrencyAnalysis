{
 "metadata": {
  "language_info": {
   "codemirror_mode": {
    "name": "ipython",
    "version": 3
   },
   "file_extension": ".py",
   "mimetype": "text/x-python",
   "name": "python",
   "nbconvert_exporter": "python",
   "pygments_lexer": "ipython3",
   "version": 3
  },
  "orig_nbformat": 2
 },
 "nbformat": 4,
 "nbformat_minor": 2,
 "cells": [
  {
   "cell_type": "code",
   "execution_count": null,
   "metadata": {},
   "outputs": [],
   "source": [
    "# ANALYSIS SCRIPT           {COINGEKO}\n",
    "\n",
    "\n",
    "\n",
    "# AIMS TO CONDUCT A FEW CALCS ON THE COINGECKO DATASET\n",
    "import os.path\n",
    "from datetime import datetime\n",
    "# GLOBAL VARS\n",
    "G_save_path = '/Users/bob/Documents/dev/projects/python/cryptoData/data'\n",
    "now = datetime.now()\n",
    "current_time = now.strftime(\"%H:%M:%S\")\n",
    "# UTILTIY FUNCTIONS\n",
    "def removeCurrent(fileName):\n",
    "    # used in outputToFile()\n",
    "    completeName = os.path.join(G_save_path, fileName)\n",
    "    if os.path.exists(completeName):\n",
    "        os.remove(completeName)\n",
    "        return 'File: Overwritten'\n",
    "    else:\n",
    "        return \"File: Created\"\n",
    "    \n",
    "def JSONExport(mylist,fileName): \n",
    "    completeName = os.path.join(G_save_path, fileName)  \n",
    "    overwriteStatus = removeCurrent(completeName)\n",
    "    with open(completeName, 'w') as f:\n",
    "        json.dump(mylist, f)\n",
    "    print('Records Exported:',len(mylist),'records' )\n",
    "    print(current_time, 'Exported file:',completeName,overwriteStatus,)\n",
    "\n",
    "def JSONImport(fileName): \n",
    "    completeName = os.path.join(G_save_path, fileName) \n",
    "    print(current_time,'Imported file:',completeName) \n",
    "    with open(completeName) as f:\n",
    "        result = json.load(f)\n",
    "    return result \n",
    "\n",
    "\n",
    "\n",
    "#PROGRAM\n",
    "print( current_time,'Utilty functions genreated..')"
   ]
  },
  {
   "cell_type": "code",
   "execution_count": null,
   "metadata": {},
   "outputs": [],
   "source": [
    "# GET DATA\n",
    "data = JSONImport(fileName)"
   ]
  }
 ]
}