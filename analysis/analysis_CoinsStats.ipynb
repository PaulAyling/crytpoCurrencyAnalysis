{
 "metadata": {
  "language_info": {
   "codemirror_mode": {
    "name": "ipython",
    "version": 3
   },
   "file_extension": ".py",
   "mimetype": "text/x-python",
   "name": "python",
   "nbconvert_exporter": "python",
   "pygments_lexer": "ipython3",
   "version": "3.8.5"
  },
  "orig_nbformat": 2,
  "kernelspec": {
   "name": "python3",
   "display_name": "Python 3.8.5 64-bit",
   "metadata": {
    "interpreter": {
     "hash": "15ed2ef4f556d75dd1bb7019e7b9b22e3a5d11b308a4f690ac640aaffb821b72"
    }
   }
  }
 },
 "nbformat": 4,
 "nbformat_minor": 2,
 "cells": [
  {
   "cell_type": "code",
   "execution_count": null,
   "metadata": {},
   "outputs": [],
   "source": [
    "# ANALYSIS SCRIPT           {COINGEKO} \n",
    "# AIMS TO CONDUCT A FEW CALCS ON THE COINGECKO DATASET\n",
    "import os.path\n",
    "from datetime import datetime\n",
    "import json\n",
    "# GLOBAL VARS\n",
    "G_save_path = '/Users/bob/Documents/dev/projects/python/cryptoData/data'\n",
    "now = datetime.now()\n",
    "current_time = now.strftime(\"%H:%M:%S\")\n",
    "# UTILTIY FUNCTIONS\n",
    "def removeCurrent(fileName):\n",
    "    # used in outputToFile()\n",
    "    completeName = os.path.join(G_save_path, fileName)\n",
    "    if os.path.exists(completeName):\n",
    "        os.remove(completeName)\n",
    "        return 'File: Overwritten'\n",
    "    else:\n",
    "        return \"File: Created\"\n",
    "    \n",
    "def JSONExport(mylist,fileName): \n",
    "    completeName = os.path.join(G_save_path, fileName)  \n",
    "    overwriteStatus = removeCurrent(completeName)\n",
    "    with open(completeName, 'w') as f:\n",
    "        json.dump(mylist, f)\n",
    "    print('Records Exported:',len(mylist),'records' )\n",
    "    print(current_time, 'Exported file:',completeName,overwriteStatus,)\n",
    "\n",
    "def JSONImport(fileName): \n",
    "    completeName = os.path.join(G_save_path, fileName) \n",
    "    print(current_time,'Imported file:',completeName) \n",
    "    with open(completeName) as f:\n",
    "        result = json.load(f)\n",
    "    return result \n",
    "def printKey(myDict,position):\n",
    "    print(myDict[position].key())\n",
    "\n",
    "\n",
    "#PROGRAM\n",
    "print( current_time,'Utilty functions genreated..')"
   ]
  },
  {
   "cell_type": "code",
   "execution_count": 8,
   "metadata": {},
   "outputs": [
    {
     "output_type": "stream",
     "name": "stdout",
     "text": [
      "Records Exported: 26 records\n09:08:02 Exported file: /Users/bob/Documents/dev/projects/python/cryptoData/data/stats_input_dataframe.json File: Created\n"
     ]
    }
   ],
   "source": [
    "\n",
    "import json\n",
    "def getHeaders(mylist):\n",
    "    # used in DataFrameInput()\n",
    "    headerRow = mylist[0]\n",
    "    result =  list(headerRow.keys())\n",
    "    return result\n",
    "\n",
    "def getColumns(myList,columnHeader):\n",
    "    # used in DataFrameInput()\n",
    "    result = []\n",
    "    for n in range(len(myList)):\n",
    "        myValue = myList[n][columnHeader]\n",
    "        result.append(myValue)\n",
    "    return result\n",
    "\n",
    "def dataFrameInput(myList):\n",
    "    headers = getHeaders(myList)\n",
    "    result = []\n",
    "    for n in range(len(headers)):\n",
    "        cur_col = getColumns(myList,headers[n])\n",
    "        result.append({headers[n]:cur_col})\n",
    "    return result \n",
    "# PROGRAM\n",
    "cryptoStatsData = JSONImport('pageStats_sample.json')\n",
    "preDataframe = dataFrameInput(cryptoStatsData)\n",
    "JSONExport(preDataframe,'stats_input_dataframe.json')"
   ]
  },
  {
   "cell_type": "code",
   "execution_count": null,
   "metadata": {},
   "outputs": [],
   "source": [
    "#import ouput\n",
    "dfInput = JSONImport('pageStats_sample.json')\n",
    "print(dfInput[0])"
   ]
  },
  {
   "cell_type": "code",
   "execution_count": null,
   "metadata": {},
   "outputs": [],
   "source": [
    "# find keys\n",
    "printKey(myDict,position)"
   ]
  },
  {
   "cell_type": "code",
   "execution_count": null,
   "metadata": {},
   "outputs": [],
   "source": [
    "# CREATE DATAFRAME\n",
    "import numpy as np\n",
    "from pandas import Series, DataFrame\n",
    "import pandas as pd\n",
    "\n",
    "def convertDictToDF(my_dict):\n",
    "    result = pd.DataFrame(list(my_dict.items()),columns = ['Stats','Numbers'])\n",
    "    return result\n",
    "\n",
    "df = pd.DataFrame(dataFramePre)\n",
    "\n",
    "df\n",
    "\n"
   ]
  },
  {
   "cell_type": "code",
   "execution_count": null,
   "metadata": {},
   "outputs": [],
   "source": [
    "printKey(myDict,position)"
   ]
  },
  {
   "cell_type": "code",
   "execution_count": null,
   "metadata": {},
   "outputs": [],
   "source": []
  }
 ]
}