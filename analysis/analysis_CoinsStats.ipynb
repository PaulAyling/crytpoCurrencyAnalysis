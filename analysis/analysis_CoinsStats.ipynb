{
 "metadata": {
  "language_info": {
   "codemirror_mode": {
    "name": "ipython",
    "version": 3
   },
   "file_extension": ".py",
   "mimetype": "text/x-python",
   "name": "python",
   "nbconvert_exporter": "python",
   "pygments_lexer": "ipython3",
   "version": "3.8.5"
  },
  "orig_nbformat": 2,
  "kernelspec": {
   "name": "python3",
   "display_name": "Python 3.8.5 64-bit",
   "metadata": {
    "interpreter": {
     "hash": "15ed2ef4f556d75dd1bb7019e7b9b22e3a5d11b308a4f690ac640aaffb821b72"
    }
   }
  }
 },
 "nbformat": 4,
 "nbformat_minor": 2,
 "cells": [
  {
   "cell_type": "code",
   "execution_count": 7,
   "metadata": {},
   "outputs": [
    {
     "output_type": "stream",
     "name": "stdout",
     "text": [
      "16:05:50 Utilty functions genreated..\n"
     ]
    }
   ],
   "source": [
    "# ANALYSIS SCRIPT           {COINGEKO}\n",
    "# AIMS TO CONDUCT A FEW CALCS ON THE COINGECKO DATASET\n",
    "import os.path\n",
    "from datetime import datetime\n",
    "import json\n",
    "# GLOBAL VARS\n",
    "G_save_path = '/Users/bob/Documents/dev/projects/python/cryptoData/data'\n",
    "now = datetime.now()\n",
    "current_time = now.strftime(\"%H:%M:%S\")\n",
    "# UTILTIY FUNCTIONS\n",
    "def removeCurrent(fileName):\n",
    "    # used in outputToFile()\n",
    "    completeName = os.path.join(G_save_path, fileName)\n",
    "    if os.path.exists(completeName):\n",
    "        os.remove(completeName)\n",
    "        return 'File: Overwritten'\n",
    "    else:\n",
    "        return \"File: Created\"\n",
    "    \n",
    "def JSONExport(mylist,fileName): \n",
    "    completeName = os.path.join(G_save_path, fileName)  \n",
    "    overwriteStatus = removeCurrent(completeName)\n",
    "    with open(completeName, 'w') as f:\n",
    "        json.dump(mylist, f)\n",
    "    print('Records Exported:',len(mylist),'records' )\n",
    "    print(current_time, 'Exported file:',completeName,overwriteStatus,)\n",
    "\n",
    "def JSONImport(fileName): \n",
    "    completeName = os.path.join(G_save_path, fileName) \n",
    "    print(current_time,'Imported file:',completeName) \n",
    "    with open(completeName) as f:\n",
    "        result = json.load(f)\n",
    "    return result \n",
    "\n",
    "\n",
    "\n",
    "#PROGRAM\n",
    "print( current_time,'Utilty functions genreated..')"
   ]
  },
  {
   "cell_type": "code",
   "execution_count": 8,
   "metadata": {},
   "outputs": [
    {
     "output_type": "stream",
     "name": "stdout",
     "text": [
      "16:05:50 Imported file: /Users/bob/Documents/dev/projects/python/cryptoData/data/pageStats.json\n"
     ]
    }
   ],
   "source": [
    "# GET DATA\n",
    "import json\n",
    "data = JSONImport('pageStats.json')"
   ]
  },
  {
   "cell_type": "code",
   "execution_count": null,
   "metadata": {
    "tags": [
     "outputPrepend"
    ]
   },
   "outputs": [],
   "source": [
    "print(data)"
   ]
  },
  {
   "cell_type": "code",
   "execution_count": 4,
   "metadata": {},
   "outputs": [
    {
     "output_type": "stream",
     "name": "stdout",
     "text": [
      "ghjg\n    Stats  Numbers\n0     bob       32\n1     car       45\n2  volume       56\n"
     ]
    }
   ],
   "source": [
    "# Data Analysis\n",
    "\n",
    "import numpy as np\n",
    "from pandas import Series, DataFrame\n",
    "import pandas as pd\n",
    "\n",
    "# reformat data\n",
    "myList =  {'bob':32,'car':45,'volume':56}\n",
    "# #convert to     [{'names':['somu','Paul'], 'value':[45, 15]}]\n",
    "# print(myList)\n",
    "\n",
    "# def convertForDFrame(myList):\n",
    "#     firstRecord = myList[0]\n",
    "#     headers = firstRecord.keys()\n",
    "#     print('headers',headers[1])\n",
    "def convertDictToDF(my_dict):\n",
    "    result = pd.DataFrame(list(my_dict.items()),columns = ['Stats','Numbers'])\n",
    "    return result\n",
    "\n",
    "\n",
    "\n"
   ]
  },
  {
   "cell_type": "code",
   "execution_count": 15,
   "metadata": {},
   "outputs": [
    {
     "output_type": "execute_result",
     "data": {
      "text/plain": [
       "                               Stats  \\\n",
       "0                                 id   \n",
       "1                             symbol   \n",
       "2                               name   \n",
       "3                              image   \n",
       "4                      current_price   \n",
       "5                         market_cap   \n",
       "6                    market_cap_rank   \n",
       "7            fully_diluted_valuation   \n",
       "8                       total_volume   \n",
       "9                           high_24h   \n",
       "10                           low_24h   \n",
       "11                  price_change_24h   \n",
       "12       price_change_percentage_24h   \n",
       "13             market_cap_change_24h   \n",
       "14  market_cap_change_percentage_24h   \n",
       "15                circulating_supply   \n",
       "16                      total_supply   \n",
       "17                        max_supply   \n",
       "18                               ath   \n",
       "19             ath_change_percentage   \n",
       "20                          ath_date   \n",
       "21                               atl   \n",
       "22             atl_change_percentage   \n",
       "23                          atl_date   \n",
       "24                               roi   \n",
       "25                      last_updated   \n",
       "\n",
       "                                              Numbers  \n",
       "0                                                aave  \n",
       "1                                                aave  \n",
       "2                                                Aave  \n",
       "3   https://assets.coingecko.com/coins/images/1264...  \n",
       "4                                              346.89  \n",
       "5                                          4310283986  \n",
       "6                                                  31  \n",
       "7                                          5528149891  \n",
       "8                                           723639321  \n",
       "9                                              412.47  \n",
       "10                                             342.47  \n",
       "11                                           -63.1583  \n",
       "12                                           -15.4025  \n",
       "13                                       -7.99668e+08  \n",
       "14                                           -15.6492  \n",
       "15                                        1.24752e+07  \n",
       "16                                            1.6e+07  \n",
       "17                                            1.6e+07  \n",
       "18                                             575.15  \n",
       "19                                           -40.1977  \n",
       "20                           2021-02-10T06:12:13.409Z  \n",
       "21                                              26.02  \n",
       "22                                            1221.74  \n",
       "23                           2020-11-05T09:20:11.928Z  \n",
       "24                                               None  \n",
       "25                           2021-04-07T12:39:15.096Z  "
      ],
      "text/html": "<div>\n<style scoped>\n    .dataframe tbody tr th:only-of-type {\n        vertical-align: middle;\n    }\n\n    .dataframe tbody tr th {\n        vertical-align: top;\n    }\n\n    .dataframe thead th {\n        text-align: right;\n    }\n</style>\n<table border=\"1\" class=\"dataframe\">\n  <thead>\n    <tr style=\"text-align: right;\">\n      <th></th>\n      <th>Stats</th>\n      <th>Numbers</th>\n    </tr>\n  </thead>\n  <tbody>\n    <tr>\n      <th>0</th>\n      <td>id</td>\n      <td>aave</td>\n    </tr>\n    <tr>\n      <th>1</th>\n      <td>symbol</td>\n      <td>aave</td>\n    </tr>\n    <tr>\n      <th>2</th>\n      <td>name</td>\n      <td>Aave</td>\n    </tr>\n    <tr>\n      <th>3</th>\n      <td>image</td>\n      <td>https://assets.coingecko.com/coins/images/1264...</td>\n    </tr>\n    <tr>\n      <th>4</th>\n      <td>current_price</td>\n      <td>346.89</td>\n    </tr>\n    <tr>\n      <th>5</th>\n      <td>market_cap</td>\n      <td>4310283986</td>\n    </tr>\n    <tr>\n      <th>6</th>\n      <td>market_cap_rank</td>\n      <td>31</td>\n    </tr>\n    <tr>\n      <th>7</th>\n      <td>fully_diluted_valuation</td>\n      <td>5528149891</td>\n    </tr>\n    <tr>\n      <th>8</th>\n      <td>total_volume</td>\n      <td>723639321</td>\n    </tr>\n    <tr>\n      <th>9</th>\n      <td>high_24h</td>\n      <td>412.47</td>\n    </tr>\n    <tr>\n      <th>10</th>\n      <td>low_24h</td>\n      <td>342.47</td>\n    </tr>\n    <tr>\n      <th>11</th>\n      <td>price_change_24h</td>\n      <td>-63.1583</td>\n    </tr>\n    <tr>\n      <th>12</th>\n      <td>price_change_percentage_24h</td>\n      <td>-15.4025</td>\n    </tr>\n    <tr>\n      <th>13</th>\n      <td>market_cap_change_24h</td>\n      <td>-7.99668e+08</td>\n    </tr>\n    <tr>\n      <th>14</th>\n      <td>market_cap_change_percentage_24h</td>\n      <td>-15.6492</td>\n    </tr>\n    <tr>\n      <th>15</th>\n      <td>circulating_supply</td>\n      <td>1.24752e+07</td>\n    </tr>\n    <tr>\n      <th>16</th>\n      <td>total_supply</td>\n      <td>1.6e+07</td>\n    </tr>\n    <tr>\n      <th>17</th>\n      <td>max_supply</td>\n      <td>1.6e+07</td>\n    </tr>\n    <tr>\n      <th>18</th>\n      <td>ath</td>\n      <td>575.15</td>\n    </tr>\n    <tr>\n      <th>19</th>\n      <td>ath_change_percentage</td>\n      <td>-40.1977</td>\n    </tr>\n    <tr>\n      <th>20</th>\n      <td>ath_date</td>\n      <td>2021-02-10T06:12:13.409Z</td>\n    </tr>\n    <tr>\n      <th>21</th>\n      <td>atl</td>\n      <td>26.02</td>\n    </tr>\n    <tr>\n      <th>22</th>\n      <td>atl_change_percentage</td>\n      <td>1221.74</td>\n    </tr>\n    <tr>\n      <th>23</th>\n      <td>atl_date</td>\n      <td>2020-11-05T09:20:11.928Z</td>\n    </tr>\n    <tr>\n      <th>24</th>\n      <td>roi</td>\n      <td>None</td>\n    </tr>\n    <tr>\n      <th>25</th>\n      <td>last_updated</td>\n      <td>2021-04-07T12:39:15.096Z</td>\n    </tr>\n  </tbody>\n</table>\n</div>"
     },
     "metadata": {},
     "execution_count": 15
    }
   ],
   "source": [
    "#PRogram\n",
    "firstRecord = data[0]\n",
    "secondRecord = data[1]\n",
    "\n",
    "convertDictToDF(firstRecord)\n",
    "\n"
   ]
  },
  {
   "cell_type": "code",
   "execution_count": 14,
   "metadata": {},
   "outputs": [
    {
     "output_type": "execute_result",
     "data": {
      "text/plain": [
       "                               Stats  \\\n",
       "0                                 id   \n",
       "1                             symbol   \n",
       "2                               name   \n",
       "3                              image   \n",
       "4                      current_price   \n",
       "5                         market_cap   \n",
       "6                    market_cap_rank   \n",
       "7            fully_diluted_valuation   \n",
       "8                       total_volume   \n",
       "9                           high_24h   \n",
       "10                           low_24h   \n",
       "11                  price_change_24h   \n",
       "12       price_change_percentage_24h   \n",
       "13             market_cap_change_24h   \n",
       "14  market_cap_change_percentage_24h   \n",
       "15                circulating_supply   \n",
       "16                      total_supply   \n",
       "17                        max_supply   \n",
       "18                               ath   \n",
       "19             ath_change_percentage   \n",
       "20                          ath_date   \n",
       "21                               atl   \n",
       "22             atl_change_percentage   \n",
       "23                          atl_date   \n",
       "24                               roi   \n",
       "25                      last_updated   \n",
       "\n",
       "                                              Numbers  \n",
       "0                                                  0x  \n",
       "1                                                 zrx  \n",
       "2                                                  0x  \n",
       "3   https://assets.coingecko.com/coins/images/863/...  \n",
       "4                                                1.66  \n",
       "5                                          1244977351  \n",
       "6                                                  82  \n",
       "7                                          1636948501  \n",
       "8                                           370598527  \n",
       "9                                                1.93  \n",
       "10                                               1.61  \n",
       "11                                          -0.222758  \n",
       "12                                           -11.8439  \n",
       "13                                       -1.76662e+08  \n",
       "14                                           -12.4266  \n",
       "15                                        7.60548e+08  \n",
       "16                                              1e+09  \n",
       "17                                              1e+09  \n",
       "18                                                2.5  \n",
       "19                                           -33.5976  \n",
       "20                           2018-01-13T00:00:00.000Z  \n",
       "21                                           0.120667  \n",
       "22                                            1274.06  \n",
       "23                           2020-03-13T02:27:49.563Z  \n",
       "24  {'times': 33.54225245085508, 'currency': 'usd'...  \n",
       "25                           2021-04-07T12:39:46.191Z  "
      ],
      "text/html": "<div>\n<style scoped>\n    .dataframe tbody tr th:only-of-type {\n        vertical-align: middle;\n    }\n\n    .dataframe tbody tr th {\n        vertical-align: top;\n    }\n\n    .dataframe thead th {\n        text-align: right;\n    }\n</style>\n<table border=\"1\" class=\"dataframe\">\n  <thead>\n    <tr style=\"text-align: right;\">\n      <th></th>\n      <th>Stats</th>\n      <th>Numbers</th>\n    </tr>\n  </thead>\n  <tbody>\n    <tr>\n      <th>0</th>\n      <td>id</td>\n      <td>0x</td>\n    </tr>\n    <tr>\n      <th>1</th>\n      <td>symbol</td>\n      <td>zrx</td>\n    </tr>\n    <tr>\n      <th>2</th>\n      <td>name</td>\n      <td>0x</td>\n    </tr>\n    <tr>\n      <th>3</th>\n      <td>image</td>\n      <td>https://assets.coingecko.com/coins/images/863/...</td>\n    </tr>\n    <tr>\n      <th>4</th>\n      <td>current_price</td>\n      <td>1.66</td>\n    </tr>\n    <tr>\n      <th>5</th>\n      <td>market_cap</td>\n      <td>1244977351</td>\n    </tr>\n    <tr>\n      <th>6</th>\n      <td>market_cap_rank</td>\n      <td>82</td>\n    </tr>\n    <tr>\n      <th>7</th>\n      <td>fully_diluted_valuation</td>\n      <td>1636948501</td>\n    </tr>\n    <tr>\n      <th>8</th>\n      <td>total_volume</td>\n      <td>370598527</td>\n    </tr>\n    <tr>\n      <th>9</th>\n      <td>high_24h</td>\n      <td>1.93</td>\n    </tr>\n    <tr>\n      <th>10</th>\n      <td>low_24h</td>\n      <td>1.61</td>\n    </tr>\n    <tr>\n      <th>11</th>\n      <td>price_change_24h</td>\n      <td>-0.222758</td>\n    </tr>\n    <tr>\n      <th>12</th>\n      <td>price_change_percentage_24h</td>\n      <td>-11.8439</td>\n    </tr>\n    <tr>\n      <th>13</th>\n      <td>market_cap_change_24h</td>\n      <td>-1.76662e+08</td>\n    </tr>\n    <tr>\n      <th>14</th>\n      <td>market_cap_change_percentage_24h</td>\n      <td>-12.4266</td>\n    </tr>\n    <tr>\n      <th>15</th>\n      <td>circulating_supply</td>\n      <td>7.60548e+08</td>\n    </tr>\n    <tr>\n      <th>16</th>\n      <td>total_supply</td>\n      <td>1e+09</td>\n    </tr>\n    <tr>\n      <th>17</th>\n      <td>max_supply</td>\n      <td>1e+09</td>\n    </tr>\n    <tr>\n      <th>18</th>\n      <td>ath</td>\n      <td>2.5</td>\n    </tr>\n    <tr>\n      <th>19</th>\n      <td>ath_change_percentage</td>\n      <td>-33.5976</td>\n    </tr>\n    <tr>\n      <th>20</th>\n      <td>ath_date</td>\n      <td>2018-01-13T00:00:00.000Z</td>\n    </tr>\n    <tr>\n      <th>21</th>\n      <td>atl</td>\n      <td>0.120667</td>\n    </tr>\n    <tr>\n      <th>22</th>\n      <td>atl_change_percentage</td>\n      <td>1274.06</td>\n    </tr>\n    <tr>\n      <th>23</th>\n      <td>atl_date</td>\n      <td>2020-03-13T02:27:49.563Z</td>\n    </tr>\n    <tr>\n      <th>24</th>\n      <td>roi</td>\n      <td>{'times': 33.54225245085508, 'currency': 'usd'...</td>\n    </tr>\n    <tr>\n      <th>25</th>\n      <td>last_updated</td>\n      <td>2021-04-07T12:39:46.191Z</td>\n    </tr>\n  </tbody>\n</table>\n</div>"
     },
     "metadata": {},
     "execution_count": 14
    }
   ],
   "source": [
    "convertDictToDF(secondRecord)"
   ]
  },
  {
   "cell_type": "code",
   "execution_count": null,
   "metadata": {},
   "outputs": [],
   "source": []
  }
 ]
}