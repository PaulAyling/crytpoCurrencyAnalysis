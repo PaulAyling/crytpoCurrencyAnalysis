{
 "metadata": {
  "language_info": {
   "codemirror_mode": {
    "name": "ipython",
    "version": 3
   },
   "file_extension": ".py",
   "mimetype": "text/x-python",
   "name": "python",
   "nbconvert_exporter": "python",
   "pygments_lexer": "ipython3",
   "version": "3.8.5"
  },
  "orig_nbformat": 2,
  "kernelspec": {
   "name": "python385jvsc74a57bd0dca0ade3e726a953b501b15e8e990130d2b7799f14cfd9f4271676035ebe5511",
   "display_name": "Python 3.8.5 64-bit ('base': conda)"
  }
 },
 "nbformat": 4,
 "nbformat_minor": 2,
 "cells": [
  {
   "cell_type": "code",
   "execution_count": null,
   "metadata": {},
   "outputs": [],
   "source": [
    "# coingeko import script : 2\n",
    "# converts data imported in script 1 into format suitable to be used in a python Dataframe\n",
    "\n",
    "\n",
    "import os.path\n",
    "from datetime import datetime\n",
    "import json\n",
    "# GLOBAL VARS\n",
    "G_save_path = '../../data/coingeko'\n",
    "G_test_Path = 'testFiles'\n",
    "now = datetime.now()\n",
    "current_time = now.strftime(\"%H:%M:%S\")\n",
    "# UTILTIY FUNCTIONS\n",
    "def removeCurrent(fileName):\n",
    "    # used in outputToFile()\n",
    "    completeName = os.path.join(G_save_path, fileName)\n",
    "    if os.path.exists(completeName):\n",
    "        os.remove(completeName)\n",
    "        return 'File: Overwritten'\n",
    "    else:\n",
    "        return \"File: Created\"\n",
    "    \n",
    "def JSONExport(mylist,fileName): \n",
    "    completeName = os.path.join(G_save_path, fileName)  \n",
    "    overwriteStatus = removeCurrent(completeName)\n",
    "    with open(completeName, 'w') as f:\n",
    "        json.dump(mylist, f)\n",
    "    print('Records Exported:',len(mylist),'records' )\n",
    "    print(current_time, 'Exported file:',completeName,overwriteStatus,)\n",
    "\n",
    "def JSONImport(fileName):\n",
    "    completeName = os.path.join(G_save_path, fileName) \n",
    "    print(current_time,'Imported file:',completeName) \n",
    "    with open(completeName) as f:\n",
    "        result = json.load(f)\n",
    "    return result \n",
    "def JSONImportTestFiles(fileName):\n",
    "    completeName = os.path.join(G_test_Path, fileName) \n",
    "    print(current_time,'Imported TEST file:',completeName) \n",
    "    with open(completeName) as f:\n",
    "        result = json.load(f)\n",
    "    return result \n",
    "def printKey(myDict,position):\n",
    "    result = list(myDict[position].keys())[0]\n",
    "    print(result)\n",
    "\n",
    "\n",
    "\n",
    "\n",
    "#PROGRAM\n",
    "importedTestData = JSONImportTestFiles(\"congekoAPIFetch.json\")\n",
    "print( current_time,'Utilty functions genreated..')"
   ]
  },
  {
   "cell_type": "code",
   "execution_count": null,
   "metadata": {
    "tags": []
   },
   "outputs": [],
   "source": [
    "\n",
    "import json\n",
    "def getHeaders(mylist):\n",
    "    # used in DataFrameInput()\n",
    "    headerRow = mylist[0]\n",
    "    result =  list(headerRow.keys())\n",
    "    return result\n",
    "\n",
    "def getColumns(myList,columnHeader):\n",
    "    # used in DataFrameInput()\n",
    "    result = []\n",
    "    for n in range(len(myList)):\n",
    "        myValue = myList[n][columnHeader]\n",
    "        result.append(myValue)\n",
    "    return result\n",
    "\n",
    "def dataFrameInput(myList):\n",
    "    headers = getHeaders(myList)\n",
    "    result = {}\n",
    "    for n in range(len(headers)):\n",
    "        cur_col = getColumns(myList,headers[n])\n",
    "        current = {headers[n]:cur_col}\n",
    "        # print(current)\n",
    "        result.update(current)\n",
    "    print(result)\n",
    "    return result \n",
    "# PROGRAM\n",
    "\n",
    "\n",
    "# preDataframe = dataFrameInput(cryptoStatsData)\n",
    "# print(preDataframe)\n",
    "#JSONExport(preDataframe,'stats_input_dataframe.json')"
   ]
  },
  {
   "cell_type": "code",
   "execution_count": 18,
   "metadata": {},
   "outputs": [
    {
     "output_type": "stream",
     "name": "stdout",
     "text": [
      "[{'id': '1', 'name': 'Paul'}, {'id': '2', 'name': 'George'}]\n{'id': ['1', '2'], 'name': ['Paul', 'George']}\n"
     ]
    }
   ],
   "source": [
    "print(importedTestData)\n",
    "dfIn =  dataFrameInput(importedTestData)\n",
    "\n"
   ]
  },
  {
   "cell_type": "code",
   "execution_count": null,
   "metadata": {},
   "outputs": [],
   "source": [
    "\n",
    "\n"
   ]
  },
  {
   "cell_type": "code",
   "execution_count": null,
   "metadata": {},
   "outputs": [],
   "source": [
    "# create a ds of limited cols for using in a DF\n",
    "#printKey(dfInput,4)\n",
    "import numpy as np\n",
    "from pandas import Series, DataFrame\n",
    "import pandas as pd\n",
    "\n",
    "def createSample(dfInput):\n",
    "    header = dfInput[0]\n",
    "    price = dfInput[4]\n",
    "    print(price)\n",
    "    result = []\n",
    "    result.extend(header)\n",
    "    result.extend(price)\n",
    "    print(result)\n",
    "    return result\n",
    "def convertDictToDF(my_dict):\n",
    "    result = pd.DataFrame(list(my_dict.items()),columns = ['Stats','Numbers'])\n",
    "    return result\n",
    "#PROGRAM\n",
    "dfInput = JSONImport('pageStats_sample.json')\n",
    "# print(dfInput[0])\n",
    "littleSample = createSample(dfInput)\n",
    "# print(littleSample)\n",
    "\n"
   ]
  },
  {
   "cell_type": "code",
   "execution_count": null,
   "metadata": {},
   "outputs": [],
   "source": [
    "def list_length(myList,key):\n",
    "    print(len(littleSample[0][key]))\n",
    "\n",
    "list_length(littleSample,'id')\n",
    "list_length(littleSample,'current_price')"
   ]
  },
  {
   "cell_type": "code",
   "execution_count": null,
   "metadata": {},
   "outputs": [],
   "source": [
    "details = {\n",
    "    'Name' : ['Ankit', 'Aishwarya', 'Shaurya', 'Shivangi'],\n",
    "    'Age' : [23, 21, 22, 21],\n",
    "    'University' : ['BHU', 'JNU', 'DU', 'BHU'],\n",
    "}\n",
    "  \n",
    "# creating a Dataframe object \n",
    "#df = pd.DataFrame(details)\n",
    "df = pd.DataFrame(littleSample)\n",
    "  \n",
    "df"
   ]
  },
  {
   "cell_type": "code",
   "execution_count": null,
   "metadata": {},
   "outputs": [],
   "source": []
  }
 ]
}