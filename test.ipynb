{
 "metadata": {
  "language_info": {
   "codemirror_mode": {
    "name": "ipython",
    "version": 3
   },
   "file_extension": ".py",
   "mimetype": "text/x-python",
   "name": "python",
   "nbconvert_exporter": "python",
   "pygments_lexer": "ipython3",
   "version": "3.8.5"
  },
  "orig_nbformat": 2,
  "kernelspec": {
   "name": "python385jvsc74a57bd0dca0ade3e726a953b501b15e8e990130d2b7799f14cfd9f4271676035ebe5511",
   "display_name": "Python 3.8.5 64-bit ('base': conda)"
  }
 },
 "nbformat": 4,
 "nbformat_minor": 2,
 "cells": [
  {
   "cell_type": "code",
   "execution_count": 97,
   "metadata": {},
   "outputs": [],
   "source": [
    "    cell1='A1'\n",
    "    cell2 = 'A3'\n",
    "# 1 create \n",
    "    y_ref = {\"A\":1,\"B\":2,\"c\":3,\"d\":4,\"e\":5,\"f\":6,\"g\":7,\"h\":8}\n",
    "# 11 convert strings\n",
    "    def getCoords(cell):\n",
    "        x = cell[0]\n",
    "        y = cell[1]\n",
    "        return [x,y]\n",
    "    def getCellNumber(cellcoords): \n",
    "        res_x = y_ref[cellcoords[0]]\n",
    "        res_y = cellcoords[1]\n",
    "        result = [res_x, res_y]\n",
    "        return result\n",
    "\n",
    "    def refsAreEven(cellNbrs):\n",
    "        result = []\n",
    "        for n in range(len(cellNbrs)):\n",
    "            if int(cellNbrs[n]) % 2 == 0:\n",
    "                result.append(True)\n",
    "            else:\n",
    "                result.append(False)\n",
    "        return result\n",
    "\n",
    "    def getCellCol(cellNbrs):\n",
    "        print('>>>>',cellNbrs[0])\n",
    "        print('>>>>',cellNbrs[1])\n",
    "        if cellNbrs[0] == cellNbrs[1]:\n",
    "            print(\"white\")\n",
    "            return \"white\"\n",
    "        else:\n",
    "            print(\"black\")\n",
    "            return \"Black\"\n",
    "    def compareSquares(squareColList):\n",
    "        if squareColList[0] == squareColList[1]:\n",
    "            print(\"True\")\n",
    "            return True\n",
    "        else:\n",
    "            print(\"False\")\n",
    "            return False \n",
    "\n"
   ]
  },
  {
   "cell_type": "code",
   "execution_count": 98,
   "metadata": {},
   "outputs": [
    {
     "output_type": "stream",
     "name": "stdout",
     "text": [
      "2\n--------------------------------------------\nFirst Space\nNbrs [1, '1']\n[False, False]\n>>>> False\n>>>> False\nwhite\nwhite\n--------------------------------------------\nFirst Space\nNbrs [1, '3']\n[False, False]\n>>>> False\n>>>> False\nwhite\nwhite\n['white', 'white']\nTrue\nFINAL RESULT: True\n"
     ]
    }
   ],
   "source": [
    "#Program\n",
    "cell = [cell1,cell2]\n",
    "square_colors = []\n",
    "print(len(cell))\n",
    "for n in range(len(cell)):\n",
    "    print('--------------------------------------------')\n",
    "    print('First Space')\n",
    "    coords = getCoords(cell[n])\n",
    "    # print('coords:',coords)\n",
    "    nbrs = getCellNumber(coords)\n",
    "    print('Nbrs',nbrs)\n",
    "    areEven = refsAreEven(nbrs)\n",
    "    print(areEven)\n",
    "    cellCol = getCellCol(areEven)\n",
    "    print(cellCol)\n",
    "    square_colors.append(cellCol)\n",
    "print(square_colors)\n",
    "result = compareSquares(square_colors)\n",
    "print(\"FINAL RESULT:\",result)\n",
    "# return result\n",
    "    "
   ]
  },
  {
   "cell_type": "code",
   "execution_count": null,
   "metadata": {},
   "outputs": [],
   "source": []
  }
 ]
}