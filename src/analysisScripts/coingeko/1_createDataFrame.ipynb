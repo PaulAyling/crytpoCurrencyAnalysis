{
 "metadata": {
  "language_info": {
   "codemirror_mode": {
    "name": "ipython",
    "version": 3
   },
   "file_extension": ".py",
   "mimetype": "text/x-python",
   "name": "python",
   "nbconvert_exporter": "python",
   "pygments_lexer": "ipython3",
   "version": "3.8.5"
  },
  "orig_nbformat": 2,
  "kernelspec": {
   "name": "python385jvsc74a57bd0dca0ade3e726a953b501b15e8e990130d2b7799f14cfd9f4271676035ebe5511",
   "display_name": "Python 3.8.5 64-bit ('base': conda)"
  }
 },
 "nbformat": 4,
 "nbformat_minor": 2,
 "cells": [
  {
   "cell_type": "code",
   "execution_count": 1,
   "metadata": {},
   "outputs": [
    {
     "output_type": "error",
     "ename": "SyntaxError",
     "evalue": "invalid syntax (dataQuality.py, line 3)",
     "traceback": [
      "Traceback \u001b[0;36m(most recent call last)\u001b[0m:\n",
      "  File \u001b[1;32m\"/opt/anaconda3/lib/python3.8/site-packages/IPython/core/interactiveshell.py\"\u001b[0m, line \u001b[1;32m3418\u001b[0m, in \u001b[1;35mrun_code\u001b[0m\n    exec(code_obj, self.user_global_ns, self.user_ns)\n",
      "\u001b[0;36m  File \u001b[0;32m\"<ipython-input-1-65eeff5dc06f>\"\u001b[0;36m, line \u001b[0;32m18\u001b[0;36m, in \u001b[0;35m<module>\u001b[0;36m\u001b[0m\n\u001b[0;31m    from common import dataQuality\u001b[0m\n",
      "\u001b[0;36m  File \u001b[0;32m\"/Users/paul/Documents/dev/python/crytpoCurrencyAnalysis/src/common/dataQuality.py\"\u001b[0;36m, line \u001b[0;32m3\u001b[0m\n\u001b[0;31m    print('Total Number Of Records'len(df.index))\u001b[0m\n\u001b[0m                                   ^\u001b[0m\n\u001b[0;31mSyntaxError\u001b[0m\u001b[0;31m:\u001b[0m invalid syntax\n"
     ]
    }
   ],
   "source": [
    "# ANALYSIS SCRIPT: CREATE DATAFRAME AND CREATE BASIC MEASURES \n",
    "# THIS CELL: IMPORT DEPENDENCIES AND SETUP GLOBAL VARIABLES\n",
    "import os,sys,inspect\n",
    "import importlib\n",
    "import os.path\n",
    "from datetime import datetime\n",
    "# run this if you edit the import module\n",
    "#importlib.reload(fileManagement)\n",
    "current_path = os.path.dirname(os.path.abspath(inspect.getfile(inspect.currentframe())))\n",
    "parent_path = os.path.dirname(current_path)\n",
    "src_path = os.path.dirname(parent_path)\n",
    "root_path = os.path.dirname(src_path)\n",
    "env_path = root_path+'/env'\n",
    "data_path = root_path+'/data'\n",
    "sys.path.insert(0, src_path) \n",
    "# IMPORT CUSTOM MODULES (from ./common)\n",
    "from common import fileManagement\n",
    "from common import dataQuality\n",
    "# GLOBAL VARS\n",
    "now = datetime.now()\n",
    "current_time = now.strftime(\"%H:%M:%S\")\n",
    "#PROGRAM\n",
    "print('PATH VARIABLES CREATED')\n",
    "print('src_path  :',src_path)\n",
    "print('root_path :',root_path)\n",
    "print('env_path  :',env_path)\n",
    "print('data_path :',data_path)\n",
    "print( current_time,'Utilty functions generated..')\n",
    "print(current_time,'All code run in this block')"
   ]
  },
  {
   "cell_type": "code",
   "execution_count": null,
   "metadata": {},
   "outputs": [],
   "source": [
    "# THIS CELL: IMPORT BASE DATAFRAME\n",
    "#PROGRAM\n",
    "# importedTestData = JSONImportTestFiles(\"dictOfLists.json\")\n",
    "import numpy as np\n",
    "from pandas import Series, DataFrame\n",
    "import pandas as pd\n",
    "dataFromScript1 = fileManagement.JSONImport('stats_df_format.json',data_path)\n",
    "df = DataFrame(dataFromScript1)\n",
    "print( current_time,'Utilty functions genreated..& DataFrame created (DF)')"
   ]
  },
  {
   "cell_type": "code",
   "execution_count": null,
   "metadata": {},
   "outputs": [],
   "source": [
    "# DATA QUALITY\n",
    "\n",
    "def rowCounts(dataframe):\n",
    "    print('Total Number Of Records',len(df.index))\n",
    "    print('Total Number Of Coins',item_counts = dataframe[\"name\"].value_counts())\n",
    "\n",
    "def dataQualityReport(dataframe):\n",
    "    rowCounts(dataframe)\n",
    "\n"
   ]
  },
  {
   "cell_type": "code",
   "execution_count": null,
   "metadata": {},
   "outputs": [],
   "source": [
    "dataQualityReport(df)"
   ]
  },
  {
   "cell_type": "code",
   "execution_count": null,
   "metadata": {},
   "outputs": [],
   "source": [
    "# THIS CELL: Analysis Functions\n",
    "\n",
    "def selectCoin(name):\n",
    "    return  = dfObj.loc[ 'b' , : ]\n",
    "\n",
    "def max_supply_proxy(max_supply,total_supply, circulating_supply):\n",
    "    #calc max supply based on best info available\n",
    "    if total_supply <0:\n",
    "        return total_supply"
   ]
  },
  {
   "cell_type": "code",
   "execution_count": null,
   "metadata": {},
   "outputs": [],
   "source": [
    "# THIS CELL: GET DATA OVERVIEW\n",
    "\n",
    "#Count rows\n",
    "print(len(df.index))\n",
    "\n",
    "#PRINT COLS\n",
    "for col in df.columns:\n",
    "    print(col)\n",
    "\n",
    "# print(max_supply_proxy(oneRow[max_supply],total_supply, circulating_supply))\n",
    "# df[['name', 'current_price', 'circulating_supply','total_supply', 'max_supply']]\n",
    "bitcoin = df.loc[df['name']=='Bitcoin']\n",
    "\n",
    "print(bitcoin)\n",
    "# max_supply = \n",
    "# total_supply\n",
    "# circulating_supply"
   ]
  },
  {
   "cell_type": "code",
   "execution_count": null,
   "metadata": {},
   "outputs": [],
   "source": []
  }
 ]
}