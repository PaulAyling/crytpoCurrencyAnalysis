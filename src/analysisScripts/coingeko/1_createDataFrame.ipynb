{
 "metadata": {
  "language_info": {
   "codemirror_mode": {
    "name": "ipython",
    "version": 3
   },
   "file_extension": ".py",
   "mimetype": "text/x-python",
   "name": "python",
   "nbconvert_exporter": "python",
   "pygments_lexer": "ipython3",
   "version": "3.8.5"
  },
  "orig_nbformat": 2,
  "kernelspec": {
   "name": "python3",
   "display_name": "Python 3.8.5 64-bit",
   "metadata": {
    "interpreter": {
     "hash": "15ed2ef4f556d75dd1bb7019e7b9b22e3a5d11b308a4f690ac640aaffb821b72"
    }
   }
  }
 },
 "nbformat": 4,
 "nbformat_minor": 2,
 "cells": [
  {
   "cell_type": "code",
   "execution_count": 7,
   "metadata": {},
   "outputs": [
    {
     "output_type": "stream",
     "name": "stdout",
     "text": [
      "PATH VARIABLES CREATED\nsrc_path  : /Users/paul/Documents/dev/python/crytpoCurrencyAnalysis/src\nroot_path : /Users/paul/Documents/dev/python/crytpoCurrencyAnalysis\nenv_path  : /Users/paul/Documents/dev/python/crytpoCurrencyAnalysis/env\ndata_path : /Users/paul/Documents/dev/python/crytpoCurrencyAnalysis/data\n12:41:18 Utilty functions generated..\n12:41:18 All code run in this block\n"
     ]
    }
   ],
   "source": [
    "# ANALYSIS SCRIPT: CREATE DATAFRAME AND CREATE BASIC MEASURES \n",
    "# THIS CELL: IMPORT DEPENDENCIES AND SETUP GLOBAL VARIABLES\n",
    "import os,sys,inspect\n",
    "import importlib\n",
    "import os.path\n",
    "from datetime import datetime\n",
    "# run this if you edit the import module\n",
    "#importlib.reload(fileManagement)\n",
    "current_path = os.path.dirname(os.path.abspath(inspect.getfile(inspect.currentframe())))\n",
    "parent_path = os.path.dirname(current_path)\n",
    "src_path = os.path.dirname(parent_path)\n",
    "root_path = os.path.dirname(src_path)\n",
    "env_path = root_path+'/env'\n",
    "data_path = root_path+'/data'\n",
    "sys.path.insert(0, src_path) \n",
    "# IMPORT CUSTOM MODULES (from ./common)\n",
    "from common import fileManagement\n",
    "# GLOBAL VARS\n",
    "now = datetime.now()\n",
    "current_time = now.strftime(\"%H:%M:%S\")\n",
    "#PROGRAM\n",
    "print('PATH VARIABLES CREATED')\n",
    "print('src_path  :',src_path)\n",
    "print('root_path :',root_path)\n",
    "print('env_path  :',env_path)\n",
    "print('data_path :',data_path)\n",
    "print( current_time,'Utilty functions generated..')\n",
    "print(current_time,'All code run in this block')"
   ]
  },
  {
   "cell_type": "code",
   "execution_count": 9,
   "metadata": {},
   "outputs": [
    {
     "output_type": "stream",
     "name": "stdout",
     "text": [
      "12:37:33 Imported file: /Users/paul/Documents/dev/python/crytpoCurrencyAnalysis/data/stats_df_format.json\n12:41:18 Utilty functions genreated..& DataFrame created (DF)\n"
     ]
    }
   ],
   "source": [
    "# THIS CELL: IMPORT BASE DATAFRAME\n",
    "#PROGRAM\n",
    "# importedTestData = JSONImportTestFiles(\"dictOfLists.json\")\n",
    "dataFromScript1 = fileManagement.JSONImport('stats_df_format.json',data_path)\n",
    "df = DataFrame(dataFromScript1)\n",
    "print( current_time,'Utilty functions genreated..& DataFrame created (DF)')"
   ]
  },
  {
   "cell_type": "code",
   "execution_count": 10,
   "metadata": {},
   "outputs": [
    {
     "output_type": "execute_result",
     "data": {
      "text/plain": [
       "                              id    symbol                           name  \\\n",
       "0                         01coin       zoc                         01coin   \n",
       "1  0-5x-long-altcoin-index-token   althalf  0.5X Long Altcoin Index Token   \n",
       "2       0-5x-long-algorand-token  algohalf       0.5X Long Algorand Token   \n",
       "3   0-5x-long-bitcoin-cash-token   bchhalf   0.5X Long Bitcoin Cash Token   \n",
       "4     0-5x-long-bitcoin-sv-token   bsvhalf     0.5X Long Bitcoin SV Token   \n",
       "5       0-5x-long-balancer-token   balhalf       0.5X Long Balancer Token   \n",
       "6        0-5x-long-bitcoin-token      half        0.5X Long Bitcoin Token   \n",
       "7      0-5x-long-chainlink-token  linkhalf      0.5X Long Chainlink Token   \n",
       "8        0-5x-long-cardano-token   adahalf        0.5X Long Cardano Token   \n",
       "\n",
       "                                               image  current_price  \\\n",
       "0  https://assets.coingecko.com/coins/images/5720...       0.004721   \n",
       "1  https://assets.coingecko.com/coins/images/1200...   21977.000000   \n",
       "2  https://assets.coingecko.com/coins/images/1200...   18938.460000   \n",
       "3  https://assets.coingecko.com/coins/images/1200...   12639.650000   \n",
       "4  https://assets.coingecko.com/coins/images/1200...    8156.300000   \n",
       "5  https://assets.coingecko.com/coins/images/1202...   17147.560000   \n",
       "6  https://assets.coingecko.com/coins/images/1199...   17464.220000   \n",
       "7  https://assets.coingecko.com/coins/images/1199...   21507.000000   \n",
       "8  https://assets.coingecko.com/coins/images/1201...   41074.000000   \n",
       "\n",
       "   market_cap  market_cap_rank fully_diluted_valuation  total_volume  \\\n",
       "0     50768.0           2394.0                    None  18759.750000   \n",
       "1         0.0              NaN                    None      0.439540   \n",
       "2         0.0              NaN                    None      0.378769   \n",
       "3         0.0              NaN                    None     50.310000   \n",
       "4         0.0              NaN                    None      0.978756   \n",
       "5         0.0              NaN                    None     21.950000   \n",
       "6         0.0              NaN                    None     40.680000   \n",
       "7         0.0              NaN                    None    115.500000   \n",
       "8         0.0              NaN                    None     15.120000   \n",
       "\n",
       "       high_24h  ...  total_supply  max_supply           ath  \\\n",
       "0      0.005966  ...    65658824.0        None      0.034182   \n",
       "1           NaN  ...           NaN        None  21977.000000   \n",
       "2           NaN  ...           NaN        None  20123.000000   \n",
       "3  12699.340000  ...           NaN        None  13312.040000   \n",
       "4           NaN  ...           NaN        None   8156.300000   \n",
       "5           NaN  ...           NaN        None  17274.140000   \n",
       "6  17639.820000  ...           NaN        None  18799.010000   \n",
       "7           NaN  ...           NaN        None  24046.000000   \n",
       "8           NaN  ...           NaN        None  46820.000000   \n",
       "\n",
       "   ath_change_percentage                  ath_date           atl  \\\n",
       "0              -86.04923  2018-10-10T17:27:38.034Z      0.000706   \n",
       "1                0.00000  2021-04-16T21:48:56.043Z   7519.660000   \n",
       "2               -5.88709  2021-02-13T05:56:26.817Z   7222.780000   \n",
       "3               -5.05101  2021-04-19T01:26:09.662Z   6080.060000   \n",
       "4                0.00000  2021-04-18T01:37:29.203Z   5404.460000   \n",
       "5               -0.73280  2021-04-03T03:14:36.252Z   6126.190000   \n",
       "6               -7.10028  2021-04-15T00:32:32.428Z   8028.200000   \n",
       "7              -10.55993  2021-04-16T00:59:34.589Z  11743.650000   \n",
       "8              -12.27136  2021-04-14T08:46:00.384Z  11030.840000   \n",
       "\n",
       "   atl_change_percentage                  atl_date   roi  \\\n",
       "0              575.04425  2020-03-16T10:22:30.944Z  None   \n",
       "1              192.26042  2020-11-04T21:58:06.513Z  None   \n",
       "2              162.20471  2020-11-04T21:58:23.744Z  None   \n",
       "3              107.88693  2020-10-09T06:04:28.636Z  None   \n",
       "4               50.91785  2020-11-04T21:58:12.135Z  None   \n",
       "5              179.90581  2020-11-04T21:58:23.602Z  None   \n",
       "6              117.53604  2020-08-07T18:38:17.669Z  None   \n",
       "7               83.13571  2020-09-27T06:18:31.921Z  None   \n",
       "8              272.35835  2020-11-04T21:58:11.080Z  None   \n",
       "\n",
       "               last_updated  \n",
       "0  2021-04-21T11:27:23.049Z  \n",
       "1  2021-04-16T21:48:56.043Z  \n",
       "2  2021-04-18T15:36:05.772Z  \n",
       "3  2021-04-20T22:32:06.254Z  \n",
       "4  2021-04-18T01:37:29.203Z  \n",
       "5  2021-04-15T16:02:45.852Z  \n",
       "6  2021-04-21T06:38:07.817Z  \n",
       "7  2021-04-18T03:33:37.525Z  \n",
       "8  2021-04-20T17:03:45.933Z  \n",
       "\n",
       "[9 rows x 26 columns]"
      ],
      "text/html": "<div>\n<style scoped>\n    .dataframe tbody tr th:only-of-type {\n        vertical-align: middle;\n    }\n\n    .dataframe tbody tr th {\n        vertical-align: top;\n    }\n\n    .dataframe thead th {\n        text-align: right;\n    }\n</style>\n<table border=\"1\" class=\"dataframe\">\n  <thead>\n    <tr style=\"text-align: right;\">\n      <th></th>\n      <th>id</th>\n      <th>symbol</th>\n      <th>name</th>\n      <th>image</th>\n      <th>current_price</th>\n      <th>market_cap</th>\n      <th>market_cap_rank</th>\n      <th>fully_diluted_valuation</th>\n      <th>total_volume</th>\n      <th>high_24h</th>\n      <th>...</th>\n      <th>total_supply</th>\n      <th>max_supply</th>\n      <th>ath</th>\n      <th>ath_change_percentage</th>\n      <th>ath_date</th>\n      <th>atl</th>\n      <th>atl_change_percentage</th>\n      <th>atl_date</th>\n      <th>roi</th>\n      <th>last_updated</th>\n    </tr>\n  </thead>\n  <tbody>\n    <tr>\n      <th>0</th>\n      <td>01coin</td>\n      <td>zoc</td>\n      <td>01coin</td>\n      <td>https://assets.coingecko.com/coins/images/5720...</td>\n      <td>0.004721</td>\n      <td>50768.0</td>\n      <td>2394.0</td>\n      <td>None</td>\n      <td>18759.750000</td>\n      <td>0.005966</td>\n      <td>...</td>\n      <td>65658824.0</td>\n      <td>None</td>\n      <td>0.034182</td>\n      <td>-86.04923</td>\n      <td>2018-10-10T17:27:38.034Z</td>\n      <td>0.000706</td>\n      <td>575.04425</td>\n      <td>2020-03-16T10:22:30.944Z</td>\n      <td>None</td>\n      <td>2021-04-21T11:27:23.049Z</td>\n    </tr>\n    <tr>\n      <th>1</th>\n      <td>0-5x-long-altcoin-index-token</td>\n      <td>althalf</td>\n      <td>0.5X Long Altcoin Index Token</td>\n      <td>https://assets.coingecko.com/coins/images/1200...</td>\n      <td>21977.000000</td>\n      <td>0.0</td>\n      <td>NaN</td>\n      <td>None</td>\n      <td>0.439540</td>\n      <td>NaN</td>\n      <td>...</td>\n      <td>NaN</td>\n      <td>None</td>\n      <td>21977.000000</td>\n      <td>0.00000</td>\n      <td>2021-04-16T21:48:56.043Z</td>\n      <td>7519.660000</td>\n      <td>192.26042</td>\n      <td>2020-11-04T21:58:06.513Z</td>\n      <td>None</td>\n      <td>2021-04-16T21:48:56.043Z</td>\n    </tr>\n    <tr>\n      <th>2</th>\n      <td>0-5x-long-algorand-token</td>\n      <td>algohalf</td>\n      <td>0.5X Long Algorand Token</td>\n      <td>https://assets.coingecko.com/coins/images/1200...</td>\n      <td>18938.460000</td>\n      <td>0.0</td>\n      <td>NaN</td>\n      <td>None</td>\n      <td>0.378769</td>\n      <td>NaN</td>\n      <td>...</td>\n      <td>NaN</td>\n      <td>None</td>\n      <td>20123.000000</td>\n      <td>-5.88709</td>\n      <td>2021-02-13T05:56:26.817Z</td>\n      <td>7222.780000</td>\n      <td>162.20471</td>\n      <td>2020-11-04T21:58:23.744Z</td>\n      <td>None</td>\n      <td>2021-04-18T15:36:05.772Z</td>\n    </tr>\n    <tr>\n      <th>3</th>\n      <td>0-5x-long-bitcoin-cash-token</td>\n      <td>bchhalf</td>\n      <td>0.5X Long Bitcoin Cash Token</td>\n      <td>https://assets.coingecko.com/coins/images/1200...</td>\n      <td>12639.650000</td>\n      <td>0.0</td>\n      <td>NaN</td>\n      <td>None</td>\n      <td>50.310000</td>\n      <td>12699.340000</td>\n      <td>...</td>\n      <td>NaN</td>\n      <td>None</td>\n      <td>13312.040000</td>\n      <td>-5.05101</td>\n      <td>2021-04-19T01:26:09.662Z</td>\n      <td>6080.060000</td>\n      <td>107.88693</td>\n      <td>2020-10-09T06:04:28.636Z</td>\n      <td>None</td>\n      <td>2021-04-20T22:32:06.254Z</td>\n    </tr>\n    <tr>\n      <th>4</th>\n      <td>0-5x-long-bitcoin-sv-token</td>\n      <td>bsvhalf</td>\n      <td>0.5X Long Bitcoin SV Token</td>\n      <td>https://assets.coingecko.com/coins/images/1200...</td>\n      <td>8156.300000</td>\n      <td>0.0</td>\n      <td>NaN</td>\n      <td>None</td>\n      <td>0.978756</td>\n      <td>NaN</td>\n      <td>...</td>\n      <td>NaN</td>\n      <td>None</td>\n      <td>8156.300000</td>\n      <td>0.00000</td>\n      <td>2021-04-18T01:37:29.203Z</td>\n      <td>5404.460000</td>\n      <td>50.91785</td>\n      <td>2020-11-04T21:58:12.135Z</td>\n      <td>None</td>\n      <td>2021-04-18T01:37:29.203Z</td>\n    </tr>\n    <tr>\n      <th>5</th>\n      <td>0-5x-long-balancer-token</td>\n      <td>balhalf</td>\n      <td>0.5X Long Balancer Token</td>\n      <td>https://assets.coingecko.com/coins/images/1202...</td>\n      <td>17147.560000</td>\n      <td>0.0</td>\n      <td>NaN</td>\n      <td>None</td>\n      <td>21.950000</td>\n      <td>NaN</td>\n      <td>...</td>\n      <td>NaN</td>\n      <td>None</td>\n      <td>17274.140000</td>\n      <td>-0.73280</td>\n      <td>2021-04-03T03:14:36.252Z</td>\n      <td>6126.190000</td>\n      <td>179.90581</td>\n      <td>2020-11-04T21:58:23.602Z</td>\n      <td>None</td>\n      <td>2021-04-15T16:02:45.852Z</td>\n    </tr>\n    <tr>\n      <th>6</th>\n      <td>0-5x-long-bitcoin-token</td>\n      <td>half</td>\n      <td>0.5X Long Bitcoin Token</td>\n      <td>https://assets.coingecko.com/coins/images/1199...</td>\n      <td>17464.220000</td>\n      <td>0.0</td>\n      <td>NaN</td>\n      <td>None</td>\n      <td>40.680000</td>\n      <td>17639.820000</td>\n      <td>...</td>\n      <td>NaN</td>\n      <td>None</td>\n      <td>18799.010000</td>\n      <td>-7.10028</td>\n      <td>2021-04-15T00:32:32.428Z</td>\n      <td>8028.200000</td>\n      <td>117.53604</td>\n      <td>2020-08-07T18:38:17.669Z</td>\n      <td>None</td>\n      <td>2021-04-21T06:38:07.817Z</td>\n    </tr>\n    <tr>\n      <th>7</th>\n      <td>0-5x-long-chainlink-token</td>\n      <td>linkhalf</td>\n      <td>0.5X Long Chainlink Token</td>\n      <td>https://assets.coingecko.com/coins/images/1199...</td>\n      <td>21507.000000</td>\n      <td>0.0</td>\n      <td>NaN</td>\n      <td>None</td>\n      <td>115.500000</td>\n      <td>NaN</td>\n      <td>...</td>\n      <td>NaN</td>\n      <td>None</td>\n      <td>24046.000000</td>\n      <td>-10.55993</td>\n      <td>2021-04-16T00:59:34.589Z</td>\n      <td>11743.650000</td>\n      <td>83.13571</td>\n      <td>2020-09-27T06:18:31.921Z</td>\n      <td>None</td>\n      <td>2021-04-18T03:33:37.525Z</td>\n    </tr>\n    <tr>\n      <th>8</th>\n      <td>0-5x-long-cardano-token</td>\n      <td>adahalf</td>\n      <td>0.5X Long Cardano Token</td>\n      <td>https://assets.coingecko.com/coins/images/1201...</td>\n      <td>41074.000000</td>\n      <td>0.0</td>\n      <td>NaN</td>\n      <td>None</td>\n      <td>15.120000</td>\n      <td>NaN</td>\n      <td>...</td>\n      <td>NaN</td>\n      <td>None</td>\n      <td>46820.000000</td>\n      <td>-12.27136</td>\n      <td>2021-04-14T08:46:00.384Z</td>\n      <td>11030.840000</td>\n      <td>272.35835</td>\n      <td>2020-11-04T21:58:11.080Z</td>\n      <td>None</td>\n      <td>2021-04-20T17:03:45.933Z</td>\n    </tr>\n  </tbody>\n</table>\n<p>9 rows × 26 columns</p>\n</div>"
     },
     "metadata": {},
     "execution_count": 10
    }
   ],
   "source": [
    "# DATA FRAME ANALYSIS\n",
    "import numpy as np\n",
    "from pandas import Series, DataFrame\n",
    "import pandas as pd\n",
    "df"
   ]
  },
  {
   "cell_type": "code",
   "execution_count": null,
   "metadata": {},
   "outputs": [],
   "source": []
  }
 ]
}