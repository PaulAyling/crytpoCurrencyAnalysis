{
 "metadata": {
  "language_info": {
   "codemirror_mode": {
    "name": "ipython",
    "version": 3
   },
   "file_extension": ".py",
   "mimetype": "text/x-python",
   "name": "python",
   "nbconvert_exporter": "python",
   "pygments_lexer": "ipython3",
   "version": "3.8.5"
  },
  "orig_nbformat": 2,
  "kernelspec": {
   "name": "python385jvsc74a57bd0dca0ade3e726a953b501b15e8e990130d2b7799f14cfd9f4271676035ebe5511",
   "display_name": "Python 3.8.5 64-bit ('base': conda)"
  }
 },
 "nbformat": 4,
 "nbformat_minor": 2,
 "cells": [
  {
   "cell_type": "code",
   "execution_count": null,
   "metadata": {},
   "outputs": [],
   "source": [
    "# ANALYSIS SCRIPT: CREATE DATAFRAME AND CREATE BASIC MEASURES \n",
    "# THIS CELL: IMPORT DEPENDENCIES AND SETUP GLOBAL VARIABLES\n",
    "import os,sys,inspect\n",
    "import importlib\n",
    "import os.path\n",
    "from datetime import datetime\n",
    "# run this if you edit the import module\n",
    "#importlib.reload(fileManagement)\n",
    "current_path = os.path.dirname(os.path.abspath(inspect.getfile(inspect.currentframe())))\n",
    "parent_path = os.path.dirname(current_path)\n",
    "src_path = os.path.dirname(parent_path)\n",
    "root_path = os.path.dirname(src_path)\n",
    "env_path = root_path+'/env'\n",
    "data_path = root_path+'/data'\n",
    "sys.path.insert(0, src_path) \n",
    "# IMPORT CUSTOM MODULES (from ./common)\n",
    "from common import fileManagement\n",
    "# GLOBAL VARS\n",
    "now = datetime.now()\n",
    "current_time = now.strftime(\"%H:%M:%S\")\n",
    "#PROGRAM\n",
    "print('PATH VARIABLES CREATED')\n",
    "print('src_path  :',src_path)\n",
    "print('root_path :',root_path)\n",
    "print('env_path  :',env_path)\n",
    "print('data_path :',data_path)\n",
    "print( current_time,'Utilty functions generated..')\n",
    "print(current_time,'All code run in this block')"
   ]
  },
  {
   "cell_type": "code",
   "execution_count": 4,
   "metadata": {},
   "outputs": [
    {
     "output_type": "stream",
     "name": "stdout",
     "text": [
      "14:37:19 Imported file: /Users/paul/Documents/dev/python/crytpoCurrencyAnalysis/data/stats_df_format.json\n14:37:19 Utilty functions genreated..& DataFrame created (DF)\n"
     ]
    }
   ],
   "source": [
    "# THIS CELL: IMPORT BASE DATAFRAME\n",
    "#PROGRAM\n",
    "# importedTestData = JSONImportTestFiles(\"dictOfLists.json\")\n",
    "import numpy as np\n",
    "from pandas import Series, DataFrame\n",
    "import pandas as pd\n",
    "dataFromScript1 = fileManagement.JSONImport('stats_df_format.json',data_path)\n",
    "df = DataFrame(dataFromScript1)\n",
    "print( current_time,'Utilty functions genreated..& DataFrame created (DF)')"
   ]
  },
  {
   "cell_type": "code",
   "execution_count": null,
   "metadata": {},
   "outputs": [],
   "source": [
    "# THIS CELL: Analysis Functions\n",
    "\n",
    "def selectCoin(name):\n",
    "    return  = dfObj.loc[ 'b' , : ]\n",
    "\n",
    "def max_supply_proxy(max_supply,total_supply, circulating_supply):\n",
    "    #calc max supply based on best info available\n",
    "    if total_supply <0:\n",
    "        return total_supply"
   ]
  },
  {
   "cell_type": "code",
   "execution_count": 10,
   "metadata": {},
   "outputs": [
    {
     "output_type": "stream",
     "name": "stdout",
     "text": [
      "id\nsymbol\nname\nimage\ncurrent_price\nmarket_cap\nmarket_cap_rank\nfully_diluted_valuation\ntotal_volume\nhigh_24h\nlow_24h\nprice_change_24h\nprice_change_percentage_24h\nmarket_cap_change_24h\nmarket_cap_change_percentage_24h\ncirculating_supply\ntotal_supply\nmax_supply\nath\nath_change_percentage\nath_date\natl\natl_change_percentage\natl_date\nroi\nlast_updated\n"
     ]
    },
    {
     "output_type": "execute_result",
     "data": {
      "text/plain": [
       "                            name  current_price  circulating_supply  \\\n",
       "0                         01coin       0.004721        1.064636e+07   \n",
       "1  0.5X Long Altcoin Index Token   21977.000000        0.000000e+00   \n",
       "2       0.5X Long Algorand Token   18938.460000        0.000000e+00   \n",
       "3   0.5X Long Bitcoin Cash Token   12639.650000        0.000000e+00   \n",
       "4     0.5X Long Bitcoin SV Token    8156.300000        0.000000e+00   \n",
       "5       0.5X Long Balancer Token   17147.560000        0.000000e+00   \n",
       "6        0.5X Long Bitcoin Token   17464.220000        0.000000e+00   \n",
       "7      0.5X Long Chainlink Token   21507.000000        0.000000e+00   \n",
       "8        0.5X Long Cardano Token   41074.000000        0.000000e+00   \n",
       "\n",
       "   total_supply max_supply  \n",
       "0    65658824.0       None  \n",
       "1           NaN       None  \n",
       "2           NaN       None  \n",
       "3           NaN       None  \n",
       "4           NaN       None  \n",
       "5           NaN       None  \n",
       "6           NaN       None  \n",
       "7           NaN       None  \n",
       "8           NaN       None  "
      ],
      "text/html": "<div>\n<style scoped>\n    .dataframe tbody tr th:only-of-type {\n        vertical-align: middle;\n    }\n\n    .dataframe tbody tr th {\n        vertical-align: top;\n    }\n\n    .dataframe thead th {\n        text-align: right;\n    }\n</style>\n<table border=\"1\" class=\"dataframe\">\n  <thead>\n    <tr style=\"text-align: right;\">\n      <th></th>\n      <th>name</th>\n      <th>current_price</th>\n      <th>circulating_supply</th>\n      <th>total_supply</th>\n      <th>max_supply</th>\n    </tr>\n  </thead>\n  <tbody>\n    <tr>\n      <th>0</th>\n      <td>01coin</td>\n      <td>0.004721</td>\n      <td>1.064636e+07</td>\n      <td>65658824.0</td>\n      <td>None</td>\n    </tr>\n    <tr>\n      <th>1</th>\n      <td>0.5X Long Altcoin Index Token</td>\n      <td>21977.000000</td>\n      <td>0.000000e+00</td>\n      <td>NaN</td>\n      <td>None</td>\n    </tr>\n    <tr>\n      <th>2</th>\n      <td>0.5X Long Algorand Token</td>\n      <td>18938.460000</td>\n      <td>0.000000e+00</td>\n      <td>NaN</td>\n      <td>None</td>\n    </tr>\n    <tr>\n      <th>3</th>\n      <td>0.5X Long Bitcoin Cash Token</td>\n      <td>12639.650000</td>\n      <td>0.000000e+00</td>\n      <td>NaN</td>\n      <td>None</td>\n    </tr>\n    <tr>\n      <th>4</th>\n      <td>0.5X Long Bitcoin SV Token</td>\n      <td>8156.300000</td>\n      <td>0.000000e+00</td>\n      <td>NaN</td>\n      <td>None</td>\n    </tr>\n    <tr>\n      <th>5</th>\n      <td>0.5X Long Balancer Token</td>\n      <td>17147.560000</td>\n      <td>0.000000e+00</td>\n      <td>NaN</td>\n      <td>None</td>\n    </tr>\n    <tr>\n      <th>6</th>\n      <td>0.5X Long Bitcoin Token</td>\n      <td>17464.220000</td>\n      <td>0.000000e+00</td>\n      <td>NaN</td>\n      <td>None</td>\n    </tr>\n    <tr>\n      <th>7</th>\n      <td>0.5X Long Chainlink Token</td>\n      <td>21507.000000</td>\n      <td>0.000000e+00</td>\n      <td>NaN</td>\n      <td>None</td>\n    </tr>\n    <tr>\n      <th>8</th>\n      <td>0.5X Long Cardano Token</td>\n      <td>41074.000000</td>\n      <td>0.000000e+00</td>\n      <td>NaN</td>\n      <td>None</td>\n    </tr>\n  </tbody>\n</table>\n</div>"
     },
     "metadata": {},
     "execution_count": 10
    }
   ],
   "source": [
    "# THIS CELL: GET DATA OVERVIEW\n",
    "#PRINT COLS\n",
    "for col in df.columns:\n",
    "    print(col)\n",
    "\n",
    "df[['name', 'current_price', 'circulating_supply','total_supply', 'max_supply']]\n",
    "\n",
    "oneRow =  dfObj.loc[ 'name' , : ]\n",
    "\n",
    "max_supply = \n",
    "total_supply\n",
    "circulating_supply\n",
    "print(max_supply_proxy(oneRow[max_supply],total_supply, circulating_supply))"
   ]
  },
  {
   "cell_type": "code",
   "execution_count": null,
   "metadata": {},
   "outputs": [],
   "source": []
  }
 ]
}