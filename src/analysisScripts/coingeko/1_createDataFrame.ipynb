{
 "metadata": {
  "language_info": {
   "codemirror_mode": {
    "name": "ipython",
    "version": 3
   },
   "file_extension": ".py",
   "mimetype": "text/x-python",
   "name": "python",
   "nbconvert_exporter": "python",
   "pygments_lexer": "ipython3",
   "version": "3.8.5"
  },
  "orig_nbformat": 2,
  "kernelspec": {
   "name": "python3",
   "display_name": "Python 3.8.5 64-bit",
   "metadata": {
    "interpreter": {
     "hash": "15ed2ef4f556d75dd1bb7019e7b9b22e3a5d11b308a4f690ac640aaffb821b72"
    }
   }
  }
 },
 "nbformat": 4,
 "nbformat_minor": 2,
 "cells": [
  {
   "cell_type": "code",
   "execution_count": 1,
   "metadata": {},
   "outputs": [
    {
     "output_type": "stream",
     "name": "stdout",
     "text": [
      "PATH VARIABLES CREATED\nsrc_path  : /Users/bob/Documents/dev/projects/python/crytpoCurrencyAnalysis/src\nroot_path : /Users/bob/Documents/dev/projects/python/crytpoCurrencyAnalysis\nenv_path  : /Users/bob/Documents/dev/projects/python/crytpoCurrencyAnalysis/env\ndata_path : /Users/bob/Documents/dev/projects/python/crytpoCurrencyAnalysis/data\n07:50:42 Utilty functions generated..\n07:50:42 All code run in this block\n"
     ]
    }
   ],
   "source": [
    "# ANALYSIS SCRIPT: CREATE DATAFRAME AND CREATE BASIC MEASURES \n",
    "# THIS CELL: IMPORT DEPENDENCIES AND SETUP GLOBAL VARIABLES\n",
    "import os,sys,inspect\n",
    "import importlib\n",
    "import os.path\n",
    "from datetime import datetime\n",
    "# run this if you edit the import module\n",
    "#importlib.reload(fileManagement)\n",
    "current_path = os.path.dirname(os.path.abspath(inspect.getfile(inspect.currentframe())))\n",
    "parent_path = os.path.dirname(current_path)\n",
    "src_path = os.path.dirname(parent_path)\n",
    "root_path = os.path.dirname(src_path)\n",
    "env_path = root_path+'/env'\n",
    "data_path = root_path+'/data'\n",
    "sys.path.insert(0, src_path) \n",
    "# IMPORT CUSTOM MODULES (from ./common)\n",
    "from common import fileManagement\n",
    "# from common import dataQuality\n",
    "# GLOBAL VARS\n",
    "now = datetime.now()\n",
    "current_time = now.strftime(\"%H:%M:%S\")\n",
    "#PROGRAM\n",
    "print('PATH VARIABLES CREATED')\n",
    "print('src_path  :',src_path)\n",
    "print('root_path :',root_path)\n",
    "print('env_path  :',env_path)\n",
    "print('data_path :',data_path)\n",
    "print( current_time,'Utilty functions generated..')\n",
    "print(current_time,'All code run in this block')"
   ]
  },
  {
   "cell_type": "code",
   "execution_count": 2,
   "metadata": {},
   "outputs": [
    {
     "output_type": "stream",
     "name": "stdout",
     "text": [
      "07:50:42 Imported file: /Users/bob/Documents/dev/projects/python/crytpoCurrencyAnalysis/data/stats_df_format.json\n07:50:42 Utilty functions genreated..& DataFrame created (DF)\n"
     ]
    }
   ],
   "source": [
    "# THIS CELL: IMPORT BASE DATAFRAME\n",
    "#PROGRAM\n",
    "# importedTestData = JSONImportTestFiles(\"dictOfLists.json\")\n",
    "import numpy as np\n",
    "from pandas import Series, DataFrame\n",
    "import pandas as pd\n",
    "dataFromScript1 = fileManagement.JSONImport('stats_df_format.json',data_path)\n",
    "df = DataFrame(dataFromScript1)\n",
    "print( current_time,'Utilty functions genreated..& DataFrame created (DF)')"
   ]
  },
  {
   "cell_type": "code",
   "execution_count": 21,
   "metadata": {},
   "outputs": [],
   "source": [
    "# DATA QUALITY\n",
    "def cnt(dataframe):\n",
    "    result  = len(df.index)\n",
    "    print('Nbr Rows:                ',result)\n",
    "    return result\n",
    "def cntDistinct(dataframe,col):\n",
    "    result = len(dataframe[col].unique())\n",
    "    print('Nbr Rows(Distinct Coins):',result)\n",
    "    return result\n",
    "\n",
    "def dataQualityReport(dataframe):\n",
    "    cnt(dataframe)\n",
    "    cntDistinct(dataframe,'name')\n",
    "    # desc = dataframe[\"current_price\"].describe()\n",
    "    # print(desc)"
   ]
  },
  {
   "cell_type": "code",
   "execution_count": 22,
   "metadata": {},
   "outputs": [
    {
     "output_type": "stream",
     "name": "stdout",
     "text": [
      "Nbr Rows:                 9\nNbr Rows(Distinct Coins): 9\n"
     ]
    }
   ],
   "source": [
    "dataQualityReport(df)"
   ]
  },
  {
   "cell_type": "code",
   "execution_count": null,
   "metadata": {},
   "outputs": [],
   "source": [
    "# THIS CELL: Analysis Functions\n",
    "\n",
    "def selectCoin(name):\n",
    "    return  = dfObj.loc[ 'b' , : ]\n",
    "\n",
    "def max_supply_proxy(max_supply,total_supply, circulating_supply):\n",
    "    #calc max supply based on best info available\n",
    "    if total_supply <0:\n",
    "        return total_supply"
   ]
  },
  {
   "cell_type": "code",
   "execution_count": null,
   "metadata": {},
   "outputs": [],
   "source": [
    "# THIS CELL: GET DATA OVERVIEW\n",
    "\n",
    "#Count rows\n",
    "print(len(df.index))\n",
    "\n",
    "#PRINT COLS\n",
    "for col in df.columns:\n",
    "    print(col)\n",
    "\n",
    "# print(max_supply_proxy(oneRow[max_supply],total_supply, circulating_supply))\n",
    "# df[['name', 'current_price', 'circulating_supply','total_supply', 'max_supply']]\n",
    "bitcoin = df.loc[df['name']=='Bitcoin']\n",
    "\n",
    "print(bitcoin)\n",
    "# max_supply = \n",
    "# total_supply\n",
    "# circulating_supply"
   ]
  },
  {
   "cell_type": "code",
   "execution_count": null,
   "metadata": {},
   "outputs": [],
   "source": []
  }
 ]
}