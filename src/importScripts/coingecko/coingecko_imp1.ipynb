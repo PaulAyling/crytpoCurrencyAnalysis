{
 "metadata": {
  "language_info": {
   "codemirror_mode": {
    "name": "ipython",
    "version": 3
   },
   "file_extension": ".py",
   "mimetype": "text/x-python",
   "name": "python",
   "nbconvert_exporter": "python",
   "pygments_lexer": "ipython3",
   "version": "3.8.5"
  },
  "orig_nbformat": 2,
  "kernelspec": {
   "name": "python385jvsc74a57bd0dca0ade3e726a953b501b15e8e990130d2b7799f14cfd9f4271676035ebe5511",
   "display_name": "Python 3.8.5 64-bit ('base': conda)"
  }
 },
 "nbformat": 4,
 "nbformat_minor": 2,
 "cells": [
  {
   "cell_type": "code",
   "execution_count": 1,
   "metadata": {},
   "outputs": [
    {
     "output_type": "stream",
     "name": "stdout",
     "text": [
      "PATH VARIABLES CREATED\nsrc_path  : /Users/paul/Documents/dev/python/crytpoCurrencyAnalysis/src\nroot_path : /Users/paul/Documents/dev/python/crytpoCurrencyAnalysis\nenv_path  : /Users/paul/Documents/dev/python/crytpoCurrencyAnalysis/env\ndata_path : /Users/paul/Documents/dev/python/crytpoCurrencyAnalysis/data\n13:27:47 Utilty functions generated..\n"
     ]
    }
   ],
   "source": [
    "# DATA INPUT SCRIPT 1/2 {}\n",
    "# THIS SCRIPT IS RUNNING SCRIPTS FROM. https://rapidapi.com/coingecko/api/coingecko?endpoint=apiendpoint_4125add1-6b8e-4d2d-ade7-f6d2275b6a9b\n",
    "import os,sys,inspect\n",
    "import importlib\n",
    "import os.path\n",
    "from datetime import datetime\n",
    "# run this if you edit the import module\n",
    "#importlib.reload(fileManagement)\n",
    "current_path = os.path.dirname(os.path.abspath(inspect.getfile(inspect.currentframe())))\n",
    "parent_path = os.path.dirname(current_path)\n",
    "src_path = os.path.dirname(parent_path)\n",
    "root_path = os.path.dirname(src_path)\n",
    "env_path = root_path+'/env'\n",
    "data_path = root_path+'/data'\n",
    "sys.path.insert(0, src_path) \n",
    "# IMPORT CUSTOM MODULES (from ./common)\n",
    "from common import fileManagement\n",
    "# GLOBAL VARS\n",
    "now = datetime.now()\n",
    "current_time = now.strftime(\"%H:%M:%S\")\n",
    "#PROGRAM\n",
    "print('PATH VARIABLES CREATED')\n",
    "print('src_path  :',src_path)\n",
    "print('root_path :',root_path)\n",
    "print('env_path  :',env_path)\n",
    "print('data_path :',data_path)\n",
    "print( current_time,'Utilty functions generated..')\n",
    "print(current_time,'All code run in this block')\n"
   ]
  },
  {
   "cell_type": "code",
   "execution_count": 2,
   "metadata": {
    "tags": []
   },
   "outputs": [
    {
     "output_type": "stream",
     "name": "stdout",
     "text": [
      "13:27:47 Imported Env: /Users/paul/Documents/dev/python/crytpoCurrencyAnalysis/env/env.json\n",
      "13:27:47 pagedCoins created: Pages Created: 2264\n",
      "/Users/paul/Documents/dev/python/crytpoCurrencyAnalysis/data/pagedCoins.json\n",
      "Records Exported: 2264 records\n",
      "13:27:47 Exported file: /Users/paul/Documents/dev/python/crytpoCurrencyAnalysis/data/pagedCoins.json File: Overwritten\n"
     ]
    }
   ],
   "source": [
    "# A GET COINS\n",
    "# 1. Get All the coins\n",
    "# 2. Create a paged list of the coins (so that I can hit API with many small requests)\n",
    "import requests\n",
    "import json\n",
    "# 1. Get All the coins\n",
    "def getCoins():\n",
    "    def createCoinList(jsonData):\n",
    "        result = []\n",
    "        for n in range(len(jsonData)):\n",
    "            result.append(jsonData[n]['id'])\n",
    "        return result\n",
    "    def fetchData():\n",
    "        url = \"https://coingecko.p.rapidapi.com/coins/list\"\n",
    "        headers = {\n",
    "            'x-rapidapi-key': rapidapiKey,\n",
    "            'x-rapidapi-host': \"coingecko.p.rapidapi.com\"\n",
    "            }\n",
    "        response = requests.request(\"GET\", url, headers=headers)\n",
    "        jsonData = json.loads(response.text)\n",
    "        return jsonData\n",
    "    #RUN\n",
    "    jsonData = fetchData()\n",
    "    result = createCoinList(jsonData)\n",
    "    return result\n",
    "# 2. Create a paged list of the coins\n",
    "def divide_chunks(myList, page_number):\n",
    "    def yield_chunks(myList, page_number):\n",
    "        # looping till length l\n",
    "        for i in range(0, len(myList), page_number): \n",
    "            yield myList[i:i + page_number]\n",
    "    result = list(yield_chunks(all_coins, page_number))\n",
    "    print (current_time,'pagedCoins created: Pages Created:', len(result))\n",
    "    return result\n",
    "#PROGRAM\n",
    "rapidapiKey = fileManagement.JSONImportEnv('x-rapidapi-key',env_path)\n",
    "all_coins = getCoins()\n",
    "outputPagedCoins = divide_chunks(all_coins,3)\n",
    "fileManagement.JSONExport('pagedCoins.json',data_path,outputPagedCoins)\n",
    "print(current_time,'All code run in this block')\n",
    "\n",
    "\n"
   ]
  },
  {
   "cell_type": "code",
   "execution_count": 3,
   "metadata": {
    "tags": []
   },
   "outputs": [
    {
     "output_type": "stream",
     "name": "stdout",
     "text": [
      "13:27:47 Imported Env: /Users/paul/Documents/dev/python/crytpoCurrencyAnalysis/env/env.json\n",
      "13:27:47 Imported file: /Users/paul/Documents/dev/python/crytpoCurrencyAnalysis/data/pagedCoins.json\n",
      "Total Pages: 2264\n",
      "13:27:47 1 pages Fetched...\n",
      "13:27:47 2 pages Fetched...\n",
      "13:27:47 3 pages Fetched...\n",
      "Output file contains: 9 records\n",
      "/Users/paul/Documents/dev/python/crytpoCurrencyAnalysis/data/pagedStats.json\n",
      "Records Exported: 9 records\n",
      "13:27:47 Exported file: /Users/paul/Documents/dev/python/crytpoCurrencyAnalysis/data/pagedStats.json File: Overwritten\n",
      "13:27:47 All code run in this block\n"
     ]
    }
   ],
   "source": [
    "# B. GET STATS \n",
    "import time\n",
    "import random\n",
    "\n",
    "def createQueryString(myList):# convert list format: ['bitcoin','etherium'] to string: 'bitcoin,etherium'\n",
    "    #used in fetchStatsAll()\n",
    "    def removeUnwantedChars(myString):\n",
    "        no_leftBrackets =  myString.replace(\"[\", \"\")\n",
    "        no_rightBrackets = no_leftBrackets.replace(\"]\", \"\")\n",
    "        no_quotes = no_rightBrackets.replace(\"'\", \"\")\n",
    "        result = no_quotes\n",
    "        return result\n",
    "    myString = str(myList)\n",
    "    result = removeUnwantedChars(myString)\n",
    "    return result\n",
    "def fetchStats(coins):\n",
    "    #used in fetchStatsAll()\n",
    "    url = \"https://coingecko.p.rapidapi.com/coins/markets\"\n",
    "    querystring = {\"vs_currency\":\"usd\",\"ids\":coins,\"per_page\":\"250\",\"order\":\"market_cap_desc\"}\n",
    "    headers = {\n",
    "        'x-rapidapi-key': rapidapiKey,\n",
    "        'x-rapidapi-host': \"coingecko.p.rapidapi.com\"\n",
    "        }\n",
    "    response = requests.request(\"GET\", url, headers=headers, params=querystring)\n",
    "    jsonData = json.loads(response.text)\n",
    "    return jsonData\n",
    "def fetchStatsAll(pagedCoins): #run fetchStats() n times\n",
    "    #fetch the stats for the coins 1 page at a time (to overcome API limit)\n",
    "    fetchedCollated=[]\n",
    "    print('Total Pages:', len(pagedCoins))\n",
    "    #number_of_Pages = len(pagedCoins)\n",
    "    number_of_pages = 3\n",
    "    for pageNumber in range(number_of_pages):\n",
    "        #get coins for this api fetch\n",
    "        queryString = createQueryString(pagedCoins[pageNumber])\n",
    "        pageStats = fetchStats(queryString)\n",
    "        fetchedCollated.append(pageStats)\n",
    "        random_number = random.randint(1,5)\n",
    "        time.sleep(random_number)\n",
    "        print(current_time,len(fetchedCollated),'pages Fetched...' )\n",
    "    result = fetchedCollated\n",
    "    return  result\n",
    "def removePages(pagedList): #convert output of fetchStatsAll into 1 big list\n",
    "    result = []\n",
    "    for n in range(len(pagedList)):\n",
    "            result.extend(pagedList[n])\n",
    "    print('Output file contains:', len(result),'records')\n",
    "    return result\n",
    "# PROGRAM \n",
    "rapidapiKey = fileManagement.JSONImportEnv('x-rapidapi-key',env_path)\n",
    "pagedCoins = fileManagement.JSONImport('pagedCoins.json',data_path)\n",
    "pagedStatsOutput = fetchStatsAll(pagedCoins)\n",
    "statsDictionarys = removePages(pagedStatsOutput)\n",
    "fileManagement.JSONExport('pagedStats.json',data_path,statsDictionarys)\n",
    "print(current_time,'All code run in this block')\n"
   ]
  },
  {
   "cell_type": "code",
   "execution_count": null,
   "metadata": {},
   "outputs": [],
   "source": []
  }
 ]
}