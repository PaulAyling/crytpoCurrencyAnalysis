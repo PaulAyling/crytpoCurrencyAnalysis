{
 "metadata": {
  "language_info": {
   "codemirror_mode": {
    "name": "ipython",
    "version": 3
   },
   "file_extension": ".py",
   "mimetype": "text/x-python",
   "name": "python",
   "nbconvert_exporter": "python",
   "pygments_lexer": "ipython3",
   "version": "3.8.5"
  },
  "orig_nbformat": 2,
  "kernelspec": {
   "name": "python3",
   "display_name": "Python 3.8.5 64-bit",
   "metadata": {
    "interpreter": {
     "hash": "15ed2ef4f556d75dd1bb7019e7b9b22e3a5d11b308a4f690ac640aaffb821b72"
    }
   }
  }
 },
 "nbformat": 4,
 "nbformat_minor": 2,
 "cells": [
  {
   "cell_type": "code",
   "execution_count": 1,
   "metadata": {},
   "outputs": [
    {
     "output_type": "stream",
     "name": "stdout",
     "text": [
      "/Users/bob/Documents/dev/projects/python/crytpoCurrencyAnalysis/src\n/Users/bob/Documents/dev/projects/python/crytpoCurrencyAnalysis\n/Users/bob/Documents/dev/projects/python/crytpoCurrencyAnalysis/env\n/Users/bob/Documents/dev/projects/python/crytpoCurrencyAnalysis/data\n20:59:13 Imported file: /Users/bob/Documents/dev/projects/python/crytpoCurrencyAnalysis/data/pagedStats.json\n20:59:13 Utilty functions genreated..\n"
     ]
    }
   ],
   "source": [
    "# coingeko import script : 2/2 \n",
    "# converts data imported in script 1 into format suitable to be used in a python Dataframe\n",
    "import os,sys,inspect\n",
    "import importlib\n",
    "import os.path\n",
    "from datetime import datetime\n",
    "#if you edit the import module run code below\n",
    "#importlib.reload(fileManagement)\n",
    "current_path = os.path.dirname(os.path.abspath(inspect.getfile(inspect.currentframe())))\n",
    "parent_path = os.path.dirname(current_path)\n",
    "src_path = os.path.dirname(parent_path)\n",
    "root_path = os.path.dirname(src_path)\n",
    "env_path = root_path+'/env'\n",
    "data_path = root_path+'/data'\n",
    "print(src_path)\n",
    "print(root_path)\n",
    "print(env_path)\n",
    "print(data_path)\n",
    "sys.path.insert(0, src_path) \n",
    "from common import fileManagement\n",
    "# GLOBAL VARS\n",
    "now = datetime.now()\n",
    "current_time = now.strftime(\"%H:%M:%S\")\n",
    "#PROGRAM\n",
    "dataFromScript1 = fileManagement.JSONImport('pagedStats.json',data_path)\n",
    "print( current_time,'Utilty functions genreated..')"
   ]
  },
  {
   "cell_type": "code",
   "execution_count": 4,
   "metadata": {
    "tags": []
   },
   "outputs": [
    {
     "output_type": "stream",
     "name": "stdout",
     "text": [
      "/Users/paul/Documents/dev/python/crytpoCurrencyAnalysis/data/stats_df_format.json\nRecords Exported: 26 records\n13:51:14 Exported file: /Users/paul/Documents/dev/python/crytpoCurrencyAnalysis/data/stats_df_format.json File: Overwritten\n"
     ]
    }
   ],
   "source": [
    "import json\n",
    "def getHeaders(mylist):\n",
    "    # used in DataFrameInput()\n",
    "    headerRow = mylist[0]\n",
    "    result =  list(headerRow.keys())\n",
    "    return result\n",
    "def getColumns(myList,columnHeader):\n",
    "    # used in DataFrameInput()\n",
    "    result = []\n",
    "    for n in range(len(myList)):\n",
    "        myValue = myList[n][columnHeader]\n",
    "        result.append(myValue)\n",
    "    return result\n",
    "def dataFrameInput(myList):\n",
    "    headers = getHeaders(myList)\n",
    "    result = {}\n",
    "    for n in range(len(headers)):\n",
    "        cur_col = getColumns(myList,headers[n])\n",
    "        current = {headers[n]:cur_col}\n",
    "        result.update(current)\n",
    "    # print(result)\n",
    "    return result \n",
    "# PROGRAM\n",
    "dfIn =  dataFrameInput(dataFromScript1)\n",
    "fileManagement.JSONExport('stats_df_format.json',data_path,dfIn)\n",
    "Print('section ran')"
   ]
  },
  {
   "cell_type": "code",
   "execution_count": null,
   "metadata": {},
   "outputs": [],
   "source": []
  }
 ]
}