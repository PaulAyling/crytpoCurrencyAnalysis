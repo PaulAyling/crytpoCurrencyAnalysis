{
 "metadata": {
  "language_info": {
   "codemirror_mode": {
    "name": "ipython",
    "version": 3
   },
   "file_extension": ".py",
   "mimetype": "text/x-python",
   "name": "python",
   "nbconvert_exporter": "python",
   "pygments_lexer": "ipython3",
   "version": "3.8.5"
  },
  "orig_nbformat": 2,
  "kernelspec": {
   "name": "python3",
   "display_name": "Python 3.8.5 64-bit",
   "metadata": {
    "interpreter": {
     "hash": "15ed2ef4f556d75dd1bb7019e7b9b22e3a5d11b308a4f690ac640aaffb821b72"
    }
   }
  }
 },
 "nbformat": 4,
 "nbformat_minor": 2,
 "cells": [
  {
   "cell_type": "code",
   "execution_count": 2,
   "metadata": {},
   "outputs": [
    {
     "output_type": "stream",
     "name": "stdout",
     "text": [
      "/Users/bob/Documents/dev/projects/python/crytpoCurrencyAnalysis/src\n/Users/bob/Documents/dev/projects/python/crytpoCurrencyAnalysis\n/Users/bob/Documents/dev/projects/python/crytpoCurrencyAnalysis/env\n/Users/bob/Documents/dev/projects/python/crytpoCurrencyAnalysis/data\n08:58:26 Utilty functions generated..\n"
     ]
    }
   ],
   "source": [
    "# coingeko import script : 2/2 ffffff\n",
    "# converts data imported in script 1 into format suitable to be used in a python Dataframe\n",
    "import os,sys,inspect\n",
    "import importlib\n",
    "import os.path\n",
    "from datetime import datetime\n",
    "#if you edit the import module run code below\n",
    "#importlib.reload(fileManagement)\n",
    "current_path = os.path.dirname(os.path.abspath(inspect.getfile(inspect.currentframe())))\n",
    "parent_path = os.path.dirname(current_path)\n",
    "src_path = os.path.dirname(parent_path)\n",
    "root_path = os.path.dirname(src_path)\n",
    "env_path = root_path+'/env'\n",
    "data_path = root_path+'/data'\n",
    "print(src_path)\n",
    "print(root_path)\n",
    "print(env_path)\n",
    "print(data_path)\n",
    "sys.path.insert(0, src_path) \n",
    "from common import fileManagement\n",
    "# GLOBAL VARS\n",
    "now = datetime.now()\n",
    "current_time = now.strftime(\"%H:%M:%S\")\n",
    "#PROGRAM\n",
    "print( current_time,'Utilty functions generated..')"
   ]
  },
  {
   "cell_type": "code",
   "execution_count": 3,
   "metadata": {
    "tags": []
   },
   "outputs": [
    {
     "output_type": "error",
     "ename": "NameError",
     "evalue": "name 'dataFromScript1' is not defined",
     "traceback": [
      "\u001b[0;31m---------------------------------------------------------------------------\u001b[0m",
      "\u001b[0;31mNameError\u001b[0m                                 Traceback (most recent call last)",
      "\u001b[0;32m<ipython-input-3-72a8253ca3e4>\u001b[0m in \u001b[0;36m<module>\u001b[0;34m\u001b[0m\n\u001b[1;32m     24\u001b[0m     \u001b[0;32mreturn\u001b[0m \u001b[0mresult\u001b[0m\u001b[0;34m\u001b[0m\u001b[0;34m\u001b[0m\u001b[0m\n\u001b[1;32m     25\u001b[0m \u001b[0;31m# PROGRAM\u001b[0m\u001b[0;34m\u001b[0m\u001b[0;34m\u001b[0m\u001b[0;34m\u001b[0m\u001b[0m\n\u001b[0;32m---> 26\u001b[0;31m \u001b[0mdfIn\u001b[0m \u001b[0;34m=\u001b[0m  \u001b[0mdataFrameInput\u001b[0m\u001b[0;34m(\u001b[0m\u001b[0mdataFromScript1\u001b[0m\u001b[0;34m)\u001b[0m\u001b[0;34m\u001b[0m\u001b[0;34m\u001b[0m\u001b[0m\n\u001b[0m\u001b[1;32m     27\u001b[0m \u001b[0mJSONExport\u001b[0m\u001b[0;34m(\u001b[0m\u001b[0mdfIn\u001b[0m\u001b[0;34m,\u001b[0m\u001b[0;34m'stats_df_format.json'\u001b[0m\u001b[0;34m)\u001b[0m\u001b[0;34m\u001b[0m\u001b[0;34m\u001b[0m\u001b[0m\n\u001b[1;32m     28\u001b[0m \u001b[0;34m\u001b[0m\u001b[0m\n",
      "\u001b[0;31mNameError\u001b[0m: name 'dataFromScript1' is not defined"
     ]
    }
   ],
   "source": [
    "\n",
    "import json\n",
    "def getHeaders(mylist):\n",
    "    # used in DataFrameInput()\n",
    "    headerRow = mylist[0]\n",
    "    result =  list(headerRow.keys())\n",
    "    return result\n",
    "\n",
    "def getColumns(myList,columnHeader):\n",
    "    # used in DataFrameInput()\n",
    "    result = []\n",
    "    for n in range(len(myList)):\n",
    "        myValue = myList[n][columnHeader]\n",
    "        result.append(myValue)\n",
    "    return result\n",
    "\n",
    "def dataFrameInput(myList):\n",
    "    headers = getHeaders(myList)\n",
    "    result = {}\n",
    "    for n in range(len(headers)):\n",
    "        cur_col = getColumns(myList,headers[n])\n",
    "        current = {headers[n]:cur_col}\n",
    "        result.update(current)\n",
    "    # print(result)\n",
    "    return result \n",
    "# PROGRAM\n",
    "dfIn =  dataFrameInput(dataFromScript1)\n",
    "JSONExport(dfIn,'stats_df_format.json')\n",
    "\n",
    "\n",
    "# dfIn =  dataFrameInput(dataFromScript1)"
   ]
  },
  {
   "cell_type": "code",
   "execution_count": null,
   "metadata": {},
   "outputs": [],
   "source": []
  }
 ]
}